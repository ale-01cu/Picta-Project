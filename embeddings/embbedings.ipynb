{
  "nbformat": 4,
  "nbformat_minor": 0,
  "metadata": {
    "colab": {
      "provenance": []
    },
    "kernelspec": {
      "name": "python3",
      "display_name": "Python 3"
    },
    "language_info": {
      "name": "python"
    }
  },
  "cells": [
    {
      "cell_type": "code",
      "execution_count": 5,
      "metadata": {
        "id": "rihhiV8IwRPl",
        "colab": {
          "base_uri": "https://localhost:8080/"
        },
        "outputId": "fa6556b6-e603-48bb-bbba-e170ad3bc312"
      },
      "outputs": [
        {
          "output_type": "stream",
          "name": "stdout",
          "text": [
            "Collecting sentence-transformers\n",
            "  Downloading sentence_transformers-2.6.1-py3-none-any.whl (163 kB)\n",
            "\u001b[?25l     \u001b[90m━━━━━━━━━━━━━━━━━━━━━━━━━━━━━━━━━━━━━━━━\u001b[0m \u001b[32m0.0/163.3 kB\u001b[0m \u001b[31m?\u001b[0m eta \u001b[36m-:--:--\u001b[0m\r\u001b[2K     \u001b[91m━━━━━━━━━━━━━━━━━━━━━━━━━━━━━━━━━━━━━\u001b[0m\u001b[91m╸\u001b[0m\u001b[90m━━\u001b[0m \u001b[32m153.6/163.3 kB\u001b[0m \u001b[31m4.9 MB/s\u001b[0m eta \u001b[36m0:00:01\u001b[0m\r\u001b[2K     \u001b[90m━━━━━━━━━━━━━━━━━━━━━━━━━━━━━━━━━━━━━━━━\u001b[0m \u001b[32m163.3/163.3 kB\u001b[0m \u001b[31m4.1 MB/s\u001b[0m eta \u001b[36m0:00:00\u001b[0m\n",
            "\u001b[?25hRequirement already satisfied: transformers<5.0.0,>=4.32.0 in /usr/local/lib/python3.10/dist-packages (from sentence-transformers) (4.38.2)\n",
            "Requirement already satisfied: tqdm in /usr/local/lib/python3.10/dist-packages (from sentence-transformers) (4.66.2)\n",
            "Requirement already satisfied: torch>=1.11.0 in /usr/local/lib/python3.10/dist-packages (from sentence-transformers) (2.2.1+cu121)\n",
            "Requirement already satisfied: numpy in /usr/local/lib/python3.10/dist-packages (from sentence-transformers) (1.25.2)\n",
            "Requirement already satisfied: scikit-learn in /usr/local/lib/python3.10/dist-packages (from sentence-transformers) (1.2.2)\n",
            "Requirement already satisfied: scipy in /usr/local/lib/python3.10/dist-packages (from sentence-transformers) (1.11.4)\n",
            "Requirement already satisfied: huggingface-hub>=0.15.1 in /usr/local/lib/python3.10/dist-packages (from sentence-transformers) (0.20.3)\n",
            "Requirement already satisfied: Pillow in /usr/local/lib/python3.10/dist-packages (from sentence-transformers) (9.4.0)\n",
            "Requirement already satisfied: filelock in /usr/local/lib/python3.10/dist-packages (from huggingface-hub>=0.15.1->sentence-transformers) (3.13.3)\n",
            "Requirement already satisfied: fsspec>=2023.5.0 in /usr/local/lib/python3.10/dist-packages (from huggingface-hub>=0.15.1->sentence-transformers) (2023.6.0)\n",
            "Requirement already satisfied: requests in /usr/local/lib/python3.10/dist-packages (from huggingface-hub>=0.15.1->sentence-transformers) (2.31.0)\n",
            "Requirement already satisfied: pyyaml>=5.1 in /usr/local/lib/python3.10/dist-packages (from huggingface-hub>=0.15.1->sentence-transformers) (6.0.1)\n",
            "Requirement already satisfied: typing-extensions>=3.7.4.3 in /usr/local/lib/python3.10/dist-packages (from huggingface-hub>=0.15.1->sentence-transformers) (4.10.0)\n",
            "Requirement already satisfied: packaging>=20.9 in /usr/local/lib/python3.10/dist-packages (from huggingface-hub>=0.15.1->sentence-transformers) (24.0)\n",
            "Requirement already satisfied: sympy in /usr/local/lib/python3.10/dist-packages (from torch>=1.11.0->sentence-transformers) (1.12)\n",
            "Requirement already satisfied: networkx in /usr/local/lib/python3.10/dist-packages (from torch>=1.11.0->sentence-transformers) (3.2.1)\n",
            "Requirement already satisfied: jinja2 in /usr/local/lib/python3.10/dist-packages (from torch>=1.11.0->sentence-transformers) (3.1.3)\n",
            "Collecting nvidia-cuda-nvrtc-cu12==12.1.105 (from torch>=1.11.0->sentence-transformers)\n",
            "  Downloading nvidia_cuda_nvrtc_cu12-12.1.105-py3-none-manylinux1_x86_64.whl (23.7 MB)\n",
            "\u001b[2K     \u001b[90m━━━━━━━━━━━━━━━━━━━━━━━━━━━━━━━━━━━━━━━━\u001b[0m \u001b[32m23.7/23.7 MB\u001b[0m \u001b[31m40.4 MB/s\u001b[0m eta \u001b[36m0:00:00\u001b[0m\n",
            "\u001b[?25hCollecting nvidia-cuda-runtime-cu12==12.1.105 (from torch>=1.11.0->sentence-transformers)\n",
            "  Downloading nvidia_cuda_runtime_cu12-12.1.105-py3-none-manylinux1_x86_64.whl (823 kB)\n",
            "\u001b[2K     \u001b[90m━━━━━━━━━━━━━━━━━━━━━━━━━━━━━━━━━━━━━━━━\u001b[0m \u001b[32m823.6/823.6 kB\u001b[0m \u001b[31m41.1 MB/s\u001b[0m eta \u001b[36m0:00:00\u001b[0m\n",
            "\u001b[?25hCollecting nvidia-cuda-cupti-cu12==12.1.105 (from torch>=1.11.0->sentence-transformers)\n",
            "  Downloading nvidia_cuda_cupti_cu12-12.1.105-py3-none-manylinux1_x86_64.whl (14.1 MB)\n",
            "\u001b[2K     \u001b[90m━━━━━━━━━━━━━━━━━━━━━━━━━━━━━━━━━━━━━━━━\u001b[0m \u001b[32m14.1/14.1 MB\u001b[0m \u001b[31m57.0 MB/s\u001b[0m eta \u001b[36m0:00:00\u001b[0m\n",
            "\u001b[?25hCollecting nvidia-cudnn-cu12==8.9.2.26 (from torch>=1.11.0->sentence-transformers)\n",
            "  Downloading nvidia_cudnn_cu12-8.9.2.26-py3-none-manylinux1_x86_64.whl (731.7 MB)\n",
            "\u001b[2K     \u001b[90m━━━━━━━━━━━━━━━━━━━━━━━━━━━━━━━━━━━━━━━━\u001b[0m \u001b[32m731.7/731.7 MB\u001b[0m \u001b[31m1.6 MB/s\u001b[0m eta \u001b[36m0:00:00\u001b[0m\n",
            "\u001b[?25hCollecting nvidia-cublas-cu12==12.1.3.1 (from torch>=1.11.0->sentence-transformers)\n",
            "  Downloading nvidia_cublas_cu12-12.1.3.1-py3-none-manylinux1_x86_64.whl (410.6 MB)\n",
            "\u001b[2K     \u001b[90m━━━━━━━━━━━━━━━━━━━━━━━━━━━━━━━━━━━━━━━━\u001b[0m \u001b[32m410.6/410.6 MB\u001b[0m \u001b[31m1.3 MB/s\u001b[0m eta \u001b[36m0:00:00\u001b[0m\n",
            "\u001b[?25hCollecting nvidia-cufft-cu12==11.0.2.54 (from torch>=1.11.0->sentence-transformers)\n",
            "  Downloading nvidia_cufft_cu12-11.0.2.54-py3-none-manylinux1_x86_64.whl (121.6 MB)\n",
            "\u001b[2K     \u001b[90m━━━━━━━━━━━━━━━━━━━━━━━━━━━━━━━━━━━━━━━━\u001b[0m \u001b[32m121.6/121.6 MB\u001b[0m \u001b[31m8.2 MB/s\u001b[0m eta \u001b[36m0:00:00\u001b[0m\n",
            "\u001b[?25hCollecting nvidia-curand-cu12==10.3.2.106 (from torch>=1.11.0->sentence-transformers)\n",
            "  Downloading nvidia_curand_cu12-10.3.2.106-py3-none-manylinux1_x86_64.whl (56.5 MB)\n",
            "\u001b[2K     \u001b[90m━━━━━━━━━━━━━━━━━━━━━━━━━━━━━━━━━━━━━━━━\u001b[0m \u001b[32m56.5/56.5 MB\u001b[0m \u001b[31m9.9 MB/s\u001b[0m eta \u001b[36m0:00:00\u001b[0m\n",
            "\u001b[?25hCollecting nvidia-cusolver-cu12==11.4.5.107 (from torch>=1.11.0->sentence-transformers)\n",
            "  Downloading nvidia_cusolver_cu12-11.4.5.107-py3-none-manylinux1_x86_64.whl (124.2 MB)\n",
            "\u001b[2K     \u001b[90m━━━━━━━━━━━━━━━━━━━━━━━━━━━━━━━━━━━━━━━━\u001b[0m \u001b[32m124.2/124.2 MB\u001b[0m \u001b[31m8.2 MB/s\u001b[0m eta \u001b[36m0:00:00\u001b[0m\n",
            "\u001b[?25hCollecting nvidia-cusparse-cu12==12.1.0.106 (from torch>=1.11.0->sentence-transformers)\n",
            "  Downloading nvidia_cusparse_cu12-12.1.0.106-py3-none-manylinux1_x86_64.whl (196.0 MB)\n",
            "\u001b[2K     \u001b[90m━━━━━━━━━━━━━━━━━━━━━━━━━━━━━━━━━━━━━━━━\u001b[0m \u001b[32m196.0/196.0 MB\u001b[0m \u001b[31m2.2 MB/s\u001b[0m eta \u001b[36m0:00:00\u001b[0m\n",
            "\u001b[?25hCollecting nvidia-nccl-cu12==2.19.3 (from torch>=1.11.0->sentence-transformers)\n",
            "  Downloading nvidia_nccl_cu12-2.19.3-py3-none-manylinux1_x86_64.whl (166.0 MB)\n",
            "\u001b[2K     \u001b[90m━━━━━━━━━━━━━━━━━━━━━━━━━━━━━━━━━━━━━━━━\u001b[0m \u001b[32m166.0/166.0 MB\u001b[0m \u001b[31m2.4 MB/s\u001b[0m eta \u001b[36m0:00:00\u001b[0m\n",
            "\u001b[?25hCollecting nvidia-nvtx-cu12==12.1.105 (from torch>=1.11.0->sentence-transformers)\n",
            "  Downloading nvidia_nvtx_cu12-12.1.105-py3-none-manylinux1_x86_64.whl (99 kB)\n",
            "\u001b[2K     \u001b[90m━━━━━━━━━━━━━━━━━━━━━━━━━━━━━━━━━━━━━━━━\u001b[0m \u001b[32m99.1/99.1 kB\u001b[0m \u001b[31m10.4 MB/s\u001b[0m eta \u001b[36m0:00:00\u001b[0m\n",
            "\u001b[?25hRequirement already satisfied: triton==2.2.0 in /usr/local/lib/python3.10/dist-packages (from torch>=1.11.0->sentence-transformers) (2.2.0)\n",
            "Collecting nvidia-nvjitlink-cu12 (from nvidia-cusolver-cu12==11.4.5.107->torch>=1.11.0->sentence-transformers)\n",
            "  Downloading nvidia_nvjitlink_cu12-12.4.127-py3-none-manylinux2014_x86_64.whl (21.1 MB)\n",
            "\u001b[2K     \u001b[90m━━━━━━━━━━━━━━━━━━━━━━━━━━━━━━━━━━━━━━━━\u001b[0m \u001b[32m21.1/21.1 MB\u001b[0m \u001b[31m68.1 MB/s\u001b[0m eta \u001b[36m0:00:00\u001b[0m\n",
            "\u001b[?25hRequirement already satisfied: regex!=2019.12.17 in /usr/local/lib/python3.10/dist-packages (from transformers<5.0.0,>=4.32.0->sentence-transformers) (2023.12.25)\n",
            "Requirement already satisfied: tokenizers<0.19,>=0.14 in /usr/local/lib/python3.10/dist-packages (from transformers<5.0.0,>=4.32.0->sentence-transformers) (0.15.2)\n",
            "Requirement already satisfied: safetensors>=0.4.1 in /usr/local/lib/python3.10/dist-packages (from transformers<5.0.0,>=4.32.0->sentence-transformers) (0.4.2)\n",
            "Requirement already satisfied: joblib>=1.1.1 in /usr/local/lib/python3.10/dist-packages (from scikit-learn->sentence-transformers) (1.3.2)\n",
            "Requirement already satisfied: threadpoolctl>=2.0.0 in /usr/local/lib/python3.10/dist-packages (from scikit-learn->sentence-transformers) (3.4.0)\n",
            "Requirement already satisfied: MarkupSafe>=2.0 in /usr/local/lib/python3.10/dist-packages (from jinja2->torch>=1.11.0->sentence-transformers) (2.1.5)\n",
            "Requirement already satisfied: charset-normalizer<4,>=2 in /usr/local/lib/python3.10/dist-packages (from requests->huggingface-hub>=0.15.1->sentence-transformers) (3.3.2)\n",
            "Requirement already satisfied: idna<4,>=2.5 in /usr/local/lib/python3.10/dist-packages (from requests->huggingface-hub>=0.15.1->sentence-transformers) (3.6)\n",
            "Requirement already satisfied: urllib3<3,>=1.21.1 in /usr/local/lib/python3.10/dist-packages (from requests->huggingface-hub>=0.15.1->sentence-transformers) (2.0.7)\n",
            "Requirement already satisfied: certifi>=2017.4.17 in /usr/local/lib/python3.10/dist-packages (from requests->huggingface-hub>=0.15.1->sentence-transformers) (2024.2.2)\n",
            "Requirement already satisfied: mpmath>=0.19 in /usr/local/lib/python3.10/dist-packages (from sympy->torch>=1.11.0->sentence-transformers) (1.3.0)\n",
            "Installing collected packages: nvidia-nvtx-cu12, nvidia-nvjitlink-cu12, nvidia-nccl-cu12, nvidia-curand-cu12, nvidia-cufft-cu12, nvidia-cuda-runtime-cu12, nvidia-cuda-nvrtc-cu12, nvidia-cuda-cupti-cu12, nvidia-cublas-cu12, nvidia-cusparse-cu12, nvidia-cudnn-cu12, nvidia-cusolver-cu12, sentence-transformers\n",
            "Successfully installed nvidia-cublas-cu12-12.1.3.1 nvidia-cuda-cupti-cu12-12.1.105 nvidia-cuda-nvrtc-cu12-12.1.105 nvidia-cuda-runtime-cu12-12.1.105 nvidia-cudnn-cu12-8.9.2.26 nvidia-cufft-cu12-11.0.2.54 nvidia-curand-cu12-10.3.2.106 nvidia-cusolver-cu12-11.4.5.107 nvidia-cusparse-cu12-12.1.0.106 nvidia-nccl-cu12-2.19.3 nvidia-nvjitlink-cu12-12.4.127 nvidia-nvtx-cu12-12.1.105 sentence-transformers-2.6.1\n"
          ]
        }
      ],
      "source": [
        "!pip install -U sentence-transformers"
      ]
    },
    {
      "cell_type": "code",
      "source": [
        "from sentence_transformers import SentenceTransformer, util\n",
        "\n",
        "models = ['all-MiniLM-L6-v2', 'sentence-transformers/stsb-roberta-large', 'all-mpnet-base-v2']\n",
        "\n",
        "model = SentenceTransformer(models[0])\n",
        "model2 = SentenceTransformer(models[2])\n",
        "\n",
        "sentences = [\n",
        "    'El gato juega afuera',\n",
        "    'me gusta tocar guitarra',\n",
        "    'me encanta la pasta',\n",
        "    'esta pelicula estuvo asombrosa',\n",
        "    'el perro esta afuera',\n",
        "    'te gusta la musica?',\n",
        "    'estuvo muy buena la pelicula',\n",
        "    'te gustaria una pizza?'\n",
        "]\n",
        "\n",
        "sentences2 = [\n",
        "  'Las peliculas de accion son las mas vistas por el publico',\n",
        "  'los videjuegos son muy entretenidos y mas lo que se juegan online',\n",
        "  'los actores mas famosos han trabajado en muy buenas peliculas de accion',\n",
        "  'me gustan mucho los juegos online como el fortnite'\n",
        "]\n",
        "\n",
        "sentences3 = [\n",
        "  'Gatos cazan ratones.',\n",
        "  'Perros persiguen gatos.',\n",
        "  'Queso atrae ratones.',\n",
        "  'Huesos encantan perros.'\n",
        "]\n",
        "\n",
        "sentences4 = [\n",
        "  'El sol brilla intensamente en el cielo despejado.',\n",
        "  'Bajo la luz del astro rey, los niños juegan en el parque.',\n",
        "  'La luna ilumina la noche estrellada.',\n",
        "  'A la luz de la luna, los lobos aúllan en la montaña.',\n",
        "]\n"
      ],
      "metadata": {
        "id": "Gs0eGqtz0OBx"
      },
      "execution_count": null,
      "outputs": []
    },
    {
      "cell_type": "code",
      "source": [
        "import time\n",
        "start_time = time.time()\n",
        "embeddings = model.encode(sentences3)\n",
        "end_time = time.time()\n",
        "\n",
        "elapsed_time_ms = (end_time - start_time) * 1000\n",
        "\n",
        "# Print the elapsed time\n",
        "print(f\"Elapsed time: {elapsed_time_ms:.2f} milliseconds\")"
      ],
      "metadata": {
        "colab": {
          "base_uri": "https://localhost:8080/"
        },
        "id": "fLKWSymuNw5z",
        "outputId": "4f0aacfa-c5ae-4b54-ea20-1186907f4306"
      },
      "execution_count": null,
      "outputs": [
        {
          "output_type": "stream",
          "name": "stdout",
          "text": [
            "Elapsed time: 107.22 milliseconds\n"
          ]
        }
      ]
    },
    {
      "cell_type": "code",
      "source": [
        "import time\n",
        "start_time = time.time()\n",
        "embeddings2 = model2.encode(sentences3)\n",
        "end_time = time.time()\n",
        "\n",
        "elapsed_time_ms = (end_time - start_time) * 1000\n",
        "\n",
        "# Print the elapsed time\n",
        "print(f\"Elapsed time: {elapsed_time_ms:.2f} milliseconds\")"
      ],
      "metadata": {
        "colab": {
          "base_uri": "https://localhost:8080/"
        },
        "id": "FV0ipd3WMizK",
        "outputId": "e2853133-fadd-4cf3-e996-9817a51beb33"
      },
      "execution_count": null,
      "outputs": [
        {
          "output_type": "stream",
          "name": "stdout",
          "text": [
            "Elapsed time: 257.65 milliseconds\n"
          ]
        }
      ]
    },
    {
      "cell_type": "code",
      "source": [
        "len(embeddings)"
      ],
      "metadata": {
        "id": "8ydqkTzC4HrR"
      },
      "execution_count": null,
      "outputs": []
    },
    {
      "cell_type": "code",
      "source": [
        "for i in embeddings:\n",
        "  print(i)"
      ],
      "metadata": {
        "id": "JLvtO9370OD8"
      },
      "execution_count": null,
      "outputs": []
    },
    {
      "cell_type": "code",
      "source": [
        "import pandas as pd\n",
        "\n",
        "vectors = []\n",
        "for v in embeddings:\n",
        "  vector = ', '.join([\n",
        "      str(n)\n",
        "      for n in v\n",
        "  ])\n",
        "  vectors.append(vector)\n",
        "\n",
        "\n",
        "# Convierte los vectores en un DataFrame de pandas\n",
        "df = pd.DataFrame({'frase': vectors})\n",
        "\n",
        "# Guarda el DataFrame en un archivo .csv\n",
        "df.to_csv('vectores.csv', index=False)"
      ],
      "metadata": {
        "id": "Dt5tpDjuAj9K"
      },
      "execution_count": null,
      "outputs": []
    },
    {
      "cell_type": "code",
      "source": [
        "import ast\n",
        "\n",
        "def text_to_embbedings(df, columns):\n",
        "  df = df.copy()\n",
        "  df[columns] = df[columns].applymap(\n",
        "    lambda value: ', '.join([\n",
        "        str(n)\n",
        "        for n in model.encode(value)\n",
        "    ])\n",
        "  )\n",
        "\n",
        "  return df\n",
        "\n",
        "def read_embeddings(df, column: str):\n",
        "  vectors = [list(v) for v in df[column].apply(ast.literal_eval)]\n",
        "  return vectors"
      ],
      "metadata": {
        "id": "lvGUqSPnQocI"
      },
      "execution_count": null,
      "outputs": []
    },
    {
      "cell_type": "code",
      "source": [
        "import pandas as pd\n",
        "df = pd.read_csv('/content/picta_publicaciones_procesadas_sin_nulas.csv')\n",
        "names = df['nombre'].values\n",
        "descriptions = df['descripcion']\n",
        "\n",
        "\n",
        "# Print the elapsed time\n",
        "# print(f\"Elapsed time: {elapsed_time_ms:.2f} milliseconds\")\n",
        "# df = df.head(1000)\n",
        "# df_vectors = text_to_embbedings(df.copy(), ['nombre', 'descripcion', 'categoria'])\n",
        "# df_vectors\n",
        "names"
      ],
      "metadata": {
        "id": "QcoHkhJTTPAh",
        "colab": {
          "base_uri": "https://localhost:8080/"
        },
        "outputId": "f7d9ab71-7065-4330-9739-6d6121cb6949"
      },
      "execution_count": 2,
      "outputs": [
        {
          "output_type": "execute_result",
          "data": {
            "text/plain": [
              "array(['casa papel', 'mlb chicago cubs vs chicago white sox',\n",
              "       'química vida pedazo pan', ...,\n",
              "       'josé martí señal acn martes abril',\n",
              "       'chadwick boseman retrato artista',\n",
              "       'enlace señal acn martes abril'], dtype=object)"
            ]
          },
          "metadata": {},
          "execution_count": 2
        }
      ]
    },
    {
      "cell_type": "code",
      "source": [
        "import time\n",
        "\n",
        "start_time = time.time()\n",
        "\n",
        "embeddings_names = model.encode(names)\n",
        "\n",
        "end_time = time.time()\n",
        "\n",
        "elapsed_time_ms = (end_time - start_time) * 1000"
      ],
      "metadata": {
        "id": "ncn9gS1tSo7d"
      },
      "execution_count": 7,
      "outputs": []
    },
    {
      "cell_type": "code",
      "source": [
        "embeddings_names_str = []\n",
        "for v in embeddings_names:\n",
        "  vector = ', '.join([\n",
        "      str(n)\n",
        "      for n in v\n",
        "  ])\n",
        "  embeddings_names_str.append(vector)\n",
        "\n",
        "embeddings_names_str"
      ],
      "metadata": {
        "id": "7oLcytA1Tetd"
      },
      "execution_count": null,
      "outputs": []
    },
    {
      "cell_type": "code",
      "source": [
        "from pandas import DataFrame\n",
        "new_df = DataFrame({'nombres': embeddings_names_str})\n",
        "new_df"
      ],
      "metadata": {
        "colab": {
          "base_uri": "https://localhost:8080/",
          "height": 424
        },
        "id": "fvVRd5_xKM9n",
        "outputId": "44ec681b-54dc-48c6-dbc8-974ccd04dca1"
      },
      "execution_count": 12,
      "outputs": [
        {
          "output_type": "execute_result",
          "data": {
            "text/plain": [
              "                                                 nombres\n",
              "0      0.057060692, 0.009584791, -0.057852514, -0.029...\n",
              "1      -0.03205459, 0.13650969, -0.050693497, -0.0044...\n",
              "2      -0.018582767, 0.06696804, -0.050700866, -0.057...\n",
              "3      0.03424065, 0.071306065, -0.023298442, 0.06248...\n",
              "4      -0.028639393, -0.0070729274, -0.103673436, 0.0...\n",
              "...                                                  ...\n",
              "22877  -0.058392685, -0.03481918, -0.05748233, 0.0855...\n",
              "22878  -0.04483098, 0.07847908, 0.011005562, 0.002800...\n",
              "22879  -0.09542749, 0.01060268, -0.040579204, 0.08568...\n",
              "22880  -0.036522564, 0.032854278, -0.08346639, -0.037...\n",
              "22881  -0.15277255, -0.029907325, -0.029312097, 0.050...\n",
              "\n",
              "[22882 rows x 1 columns]"
            ],
            "text/html": [
              "\n",
              "  <div id=\"df-c061b8d7-4616-4b83-98e9-3f532933be5d\" class=\"colab-df-container\">\n",
              "    <div>\n",
              "<style scoped>\n",
              "    .dataframe tbody tr th:only-of-type {\n",
              "        vertical-align: middle;\n",
              "    }\n",
              "\n",
              "    .dataframe tbody tr th {\n",
              "        vertical-align: top;\n",
              "    }\n",
              "\n",
              "    .dataframe thead th {\n",
              "        text-align: right;\n",
              "    }\n",
              "</style>\n",
              "<table border=\"1\" class=\"dataframe\">\n",
              "  <thead>\n",
              "    <tr style=\"text-align: right;\">\n",
              "      <th></th>\n",
              "      <th>nombres</th>\n",
              "    </tr>\n",
              "  </thead>\n",
              "  <tbody>\n",
              "    <tr>\n",
              "      <th>0</th>\n",
              "      <td>0.057060692, 0.009584791, -0.057852514, -0.029...</td>\n",
              "    </tr>\n",
              "    <tr>\n",
              "      <th>1</th>\n",
              "      <td>-0.03205459, 0.13650969, -0.050693497, -0.0044...</td>\n",
              "    </tr>\n",
              "    <tr>\n",
              "      <th>2</th>\n",
              "      <td>-0.018582767, 0.06696804, -0.050700866, -0.057...</td>\n",
              "    </tr>\n",
              "    <tr>\n",
              "      <th>3</th>\n",
              "      <td>0.03424065, 0.071306065, -0.023298442, 0.06248...</td>\n",
              "    </tr>\n",
              "    <tr>\n",
              "      <th>4</th>\n",
              "      <td>-0.028639393, -0.0070729274, -0.103673436, 0.0...</td>\n",
              "    </tr>\n",
              "    <tr>\n",
              "      <th>...</th>\n",
              "      <td>...</td>\n",
              "    </tr>\n",
              "    <tr>\n",
              "      <th>22877</th>\n",
              "      <td>-0.058392685, -0.03481918, -0.05748233, 0.0855...</td>\n",
              "    </tr>\n",
              "    <tr>\n",
              "      <th>22878</th>\n",
              "      <td>-0.04483098, 0.07847908, 0.011005562, 0.002800...</td>\n",
              "    </tr>\n",
              "    <tr>\n",
              "      <th>22879</th>\n",
              "      <td>-0.09542749, 0.01060268, -0.040579204, 0.08568...</td>\n",
              "    </tr>\n",
              "    <tr>\n",
              "      <th>22880</th>\n",
              "      <td>-0.036522564, 0.032854278, -0.08346639, -0.037...</td>\n",
              "    </tr>\n",
              "    <tr>\n",
              "      <th>22881</th>\n",
              "      <td>-0.15277255, -0.029907325, -0.029312097, 0.050...</td>\n",
              "    </tr>\n",
              "  </tbody>\n",
              "</table>\n",
              "<p>22882 rows × 1 columns</p>\n",
              "</div>\n",
              "    <div class=\"colab-df-buttons\">\n",
              "\n",
              "  <div class=\"colab-df-container\">\n",
              "    <button class=\"colab-df-convert\" onclick=\"convertToInteractive('df-c061b8d7-4616-4b83-98e9-3f532933be5d')\"\n",
              "            title=\"Convert this dataframe to an interactive table.\"\n",
              "            style=\"display:none;\">\n",
              "\n",
              "  <svg xmlns=\"http://www.w3.org/2000/svg\" height=\"24px\" viewBox=\"0 -960 960 960\">\n",
              "    <path d=\"M120-120v-720h720v720H120Zm60-500h600v-160H180v160Zm220 220h160v-160H400v160Zm0 220h160v-160H400v160ZM180-400h160v-160H180v160Zm440 0h160v-160H620v160ZM180-180h160v-160H180v160Zm440 0h160v-160H620v160Z\"/>\n",
              "  </svg>\n",
              "    </button>\n",
              "\n",
              "  <style>\n",
              "    .colab-df-container {\n",
              "      display:flex;\n",
              "      gap: 12px;\n",
              "    }\n",
              "\n",
              "    .colab-df-convert {\n",
              "      background-color: #E8F0FE;\n",
              "      border: none;\n",
              "      border-radius: 50%;\n",
              "      cursor: pointer;\n",
              "      display: none;\n",
              "      fill: #1967D2;\n",
              "      height: 32px;\n",
              "      padding: 0 0 0 0;\n",
              "      width: 32px;\n",
              "    }\n",
              "\n",
              "    .colab-df-convert:hover {\n",
              "      background-color: #E2EBFA;\n",
              "      box-shadow: 0px 1px 2px rgba(60, 64, 67, 0.3), 0px 1px 3px 1px rgba(60, 64, 67, 0.15);\n",
              "      fill: #174EA6;\n",
              "    }\n",
              "\n",
              "    .colab-df-buttons div {\n",
              "      margin-bottom: 4px;\n",
              "    }\n",
              "\n",
              "    [theme=dark] .colab-df-convert {\n",
              "      background-color: #3B4455;\n",
              "      fill: #D2E3FC;\n",
              "    }\n",
              "\n",
              "    [theme=dark] .colab-df-convert:hover {\n",
              "      background-color: #434B5C;\n",
              "      box-shadow: 0px 1px 3px 1px rgba(0, 0, 0, 0.15);\n",
              "      filter: drop-shadow(0px 1px 2px rgba(0, 0, 0, 0.3));\n",
              "      fill: #FFFFFF;\n",
              "    }\n",
              "  </style>\n",
              "\n",
              "    <script>\n",
              "      const buttonEl =\n",
              "        document.querySelector('#df-c061b8d7-4616-4b83-98e9-3f532933be5d button.colab-df-convert');\n",
              "      buttonEl.style.display =\n",
              "        google.colab.kernel.accessAllowed ? 'block' : 'none';\n",
              "\n",
              "      async function convertToInteractive(key) {\n",
              "        const element = document.querySelector('#df-c061b8d7-4616-4b83-98e9-3f532933be5d');\n",
              "        const dataTable =\n",
              "          await google.colab.kernel.invokeFunction('convertToInteractive',\n",
              "                                                    [key], {});\n",
              "        if (!dataTable) return;\n",
              "\n",
              "        const docLinkHtml = 'Like what you see? Visit the ' +\n",
              "          '<a target=\"_blank\" href=https://colab.research.google.com/notebooks/data_table.ipynb>data table notebook</a>'\n",
              "          + ' to learn more about interactive tables.';\n",
              "        element.innerHTML = '';\n",
              "        dataTable['output_type'] = 'display_data';\n",
              "        await google.colab.output.renderOutput(dataTable, element);\n",
              "        const docLink = document.createElement('div');\n",
              "        docLink.innerHTML = docLinkHtml;\n",
              "        element.appendChild(docLink);\n",
              "      }\n",
              "    </script>\n",
              "  </div>\n",
              "\n",
              "\n",
              "<div id=\"df-3c57300c-f9b9-46de-bb92-0258eb2d7542\">\n",
              "  <button class=\"colab-df-quickchart\" onclick=\"quickchart('df-3c57300c-f9b9-46de-bb92-0258eb2d7542')\"\n",
              "            title=\"Suggest charts\"\n",
              "            style=\"display:none;\">\n",
              "\n",
              "<svg xmlns=\"http://www.w3.org/2000/svg\" height=\"24px\"viewBox=\"0 0 24 24\"\n",
              "     width=\"24px\">\n",
              "    <g>\n",
              "        <path d=\"M19 3H5c-1.1 0-2 .9-2 2v14c0 1.1.9 2 2 2h14c1.1 0 2-.9 2-2V5c0-1.1-.9-2-2-2zM9 17H7v-7h2v7zm4 0h-2V7h2v10zm4 0h-2v-4h2v4z\"/>\n",
              "    </g>\n",
              "</svg>\n",
              "  </button>\n",
              "\n",
              "<style>\n",
              "  .colab-df-quickchart {\n",
              "      --bg-color: #E8F0FE;\n",
              "      --fill-color: #1967D2;\n",
              "      --hover-bg-color: #E2EBFA;\n",
              "      --hover-fill-color: #174EA6;\n",
              "      --disabled-fill-color: #AAA;\n",
              "      --disabled-bg-color: #DDD;\n",
              "  }\n",
              "\n",
              "  [theme=dark] .colab-df-quickchart {\n",
              "      --bg-color: #3B4455;\n",
              "      --fill-color: #D2E3FC;\n",
              "      --hover-bg-color: #434B5C;\n",
              "      --hover-fill-color: #FFFFFF;\n",
              "      --disabled-bg-color: #3B4455;\n",
              "      --disabled-fill-color: #666;\n",
              "  }\n",
              "\n",
              "  .colab-df-quickchart {\n",
              "    background-color: var(--bg-color);\n",
              "    border: none;\n",
              "    border-radius: 50%;\n",
              "    cursor: pointer;\n",
              "    display: none;\n",
              "    fill: var(--fill-color);\n",
              "    height: 32px;\n",
              "    padding: 0;\n",
              "    width: 32px;\n",
              "  }\n",
              "\n",
              "  .colab-df-quickchart:hover {\n",
              "    background-color: var(--hover-bg-color);\n",
              "    box-shadow: 0 1px 2px rgba(60, 64, 67, 0.3), 0 1px 3px 1px rgba(60, 64, 67, 0.15);\n",
              "    fill: var(--button-hover-fill-color);\n",
              "  }\n",
              "\n",
              "  .colab-df-quickchart-complete:disabled,\n",
              "  .colab-df-quickchart-complete:disabled:hover {\n",
              "    background-color: var(--disabled-bg-color);\n",
              "    fill: var(--disabled-fill-color);\n",
              "    box-shadow: none;\n",
              "  }\n",
              "\n",
              "  .colab-df-spinner {\n",
              "    border: 2px solid var(--fill-color);\n",
              "    border-color: transparent;\n",
              "    border-bottom-color: var(--fill-color);\n",
              "    animation:\n",
              "      spin 1s steps(1) infinite;\n",
              "  }\n",
              "\n",
              "  @keyframes spin {\n",
              "    0% {\n",
              "      border-color: transparent;\n",
              "      border-bottom-color: var(--fill-color);\n",
              "      border-left-color: var(--fill-color);\n",
              "    }\n",
              "    20% {\n",
              "      border-color: transparent;\n",
              "      border-left-color: var(--fill-color);\n",
              "      border-top-color: var(--fill-color);\n",
              "    }\n",
              "    30% {\n",
              "      border-color: transparent;\n",
              "      border-left-color: var(--fill-color);\n",
              "      border-top-color: var(--fill-color);\n",
              "      border-right-color: var(--fill-color);\n",
              "    }\n",
              "    40% {\n",
              "      border-color: transparent;\n",
              "      border-right-color: var(--fill-color);\n",
              "      border-top-color: var(--fill-color);\n",
              "    }\n",
              "    60% {\n",
              "      border-color: transparent;\n",
              "      border-right-color: var(--fill-color);\n",
              "    }\n",
              "    80% {\n",
              "      border-color: transparent;\n",
              "      border-right-color: var(--fill-color);\n",
              "      border-bottom-color: var(--fill-color);\n",
              "    }\n",
              "    90% {\n",
              "      border-color: transparent;\n",
              "      border-bottom-color: var(--fill-color);\n",
              "    }\n",
              "  }\n",
              "</style>\n",
              "\n",
              "  <script>\n",
              "    async function quickchart(key) {\n",
              "      const quickchartButtonEl =\n",
              "        document.querySelector('#' + key + ' button');\n",
              "      quickchartButtonEl.disabled = true;  // To prevent multiple clicks.\n",
              "      quickchartButtonEl.classList.add('colab-df-spinner');\n",
              "      try {\n",
              "        const charts = await google.colab.kernel.invokeFunction(\n",
              "            'suggestCharts', [key], {});\n",
              "      } catch (error) {\n",
              "        console.error('Error during call to suggestCharts:', error);\n",
              "      }\n",
              "      quickchartButtonEl.classList.remove('colab-df-spinner');\n",
              "      quickchartButtonEl.classList.add('colab-df-quickchart-complete');\n",
              "    }\n",
              "    (() => {\n",
              "      let quickchartButtonEl =\n",
              "        document.querySelector('#df-3c57300c-f9b9-46de-bb92-0258eb2d7542 button');\n",
              "      quickchartButtonEl.style.display =\n",
              "        google.colab.kernel.accessAllowed ? 'block' : 'none';\n",
              "    })();\n",
              "  </script>\n",
              "</div>\n",
              "    </div>\n",
              "  </div>\n"
            ],
            "application/vnd.google.colaboratory.intrinsic+json": {
              "type": "dataframe",
              "variable_name": "new_df",
              "summary": "{\n  \"name\": \"new_df\",\n  \"rows\": 22882,\n  \"fields\": [\n    {\n      \"column\": \"nombres\",\n      \"properties\": {\n        \"dtype\": \"string\",\n        \"num_unique_values\": 15374,\n        \"samples\": [\n          \"-0.0077338084, 0.14470826, -0.08007248, -0.018139431, -0.034383565, 0.092253834, 0.0755046, 0.08889802, 0.112793475, 0.07506194, -0.03383389, -0.07208272, -0.0738904, 0.054829262, 0.03873202, -0.09181336, -0.07744012, -0.005091785, 0.052178122, -0.018570134, 0.09409838, -0.038074967, -0.049009353, 0.03253048, -0.06872938, -0.045512702, 0.039735533, 0.0497774, -0.06676468, -0.007689237, 0.02272868, 0.050261397, 0.025366753, -0.017746387, -0.10954154, 0.073207214, 0.02050465, -0.011875138, 0.002572941, 0.03384141, -0.081324324, -0.061975345, -0.07161991, -0.0745353, 0.033580095, -0.0076379874, 0.021285517, 0.07332174, -0.06288315, 0.048585266, -0.0042305025, 0.0073822453, 0.019336369, -0.05594939, 0.08194558, -0.04046695, 0.049543627, 0.06897347, 0.024007155, 0.013718802, 0.006424276, -0.075328216, -0.07264379, -0.026006704, -0.03590393, -0.0720664, 0.0013870496, -0.0020283535, -0.11249255, 0.102869436, 0.05436185, -0.08891555, 0.028800296, -0.013058496, 0.013988255, -0.018226977, -0.044963192, 0.056833778, 0.019771395, -0.041601382, 0.08011969, -0.078896925, -0.05488747, 0.0022870533, 0.014183363, -0.025643315, 0.026106652, -0.035315663, 0.04568103, 0.048346207, 0.04054233, 0.0021475062, 0.0325643, 0.050589606, 0.039928555, -0.0037074832, 0.03428047, -0.047443952, -0.011809251, 0.08522703, 0.07497663, 0.07983995, 0.045944396, -0.034706842, -0.042139377, 0.04093982, 0.03736349, 0.004487734, 0.01936355, 0.026658405, -0.12035559, 0.013820282, -0.062447336, -0.045809966, -0.049826097, -0.03354698, 0.009473535, 0.007893435, -0.04437932, -0.035610918, 0.09467634, -0.035402004, -0.06425203, 0.037899923, 0.07632019, -0.029882792, 0.010114647, 5.6828268e-33, -0.02420653, -0.044690534, -0.054062985, 0.08490683, -0.0973041, 0.090831496, -0.03701004, -0.041238192, 0.03989186, -0.11288108, 0.02028761, -0.0030015963, -0.048129283, 0.058142696, 0.02899144, 0.09878674, -0.06727815, 0.018985204, 0.022676468, -0.08054895, -0.02268773, -0.03731323, 0.071956195, -0.035561778, 0.07358033, 0.03723745, -0.0037650282, -0.05564553, -0.07251981, -0.0068632686, 0.031931397, 0.004134797, -0.0048830295, -0.024971412, 0.06753464, 0.012981333, 0.011236231, 0.023698773, -0.032891627, -0.014223878, 0.05120159, 0.028462434, -0.01035195, -0.0001713402, 0.04780332, 0.012294404, -0.025799617, -0.013165886, 0.022500612, 0.009453497, -0.02873316, -0.020097746, -0.0845092, 0.024126392, -0.02511648, -0.011913977, -0.10737196, 0.053663768, -0.032748763, -0.11171325, 0.05663197, 0.0607898, 0.034415003, 0.006826598, 0.0170568, 0.076644205, 0.021720283, 0.032291517, 0.034091346, -0.0032770168, -0.061579827, 0.027343862, 0.03760593, 0.0118020475, -0.08938446, -0.011248607, -0.026877267, 0.04544176, 0.0026694858, -0.011354219, -0.039531954, -0.021625087, -0.0025848837, -0.017589461, 0.026729314, 0.059770472, 0.058892902, -0.0067338482, -0.005369484, 0.06710005, -0.049884927, 0.021909056, 0.05041759, 0.009702888, 0.0248899, -8.0385505e-33, -0.07521354, -0.056188703, 0.03476598, 0.06206794, -0.005170994, 0.036726315, -0.06323701, 0.016026897, -0.057317838, 0.05985741, -0.026726935, -0.07811595, 0.04473133, 0.018795075, -0.07616615, 0.04782092, 0.06264376, -0.04956201, -0.08534704, -0.068772666, 0.063703515, 0.022390237, 0.063540585, -0.02777125, -0.07408238, -0.06673991, 0.07489096, -0.055792592, -0.12564781, -0.06327182, 0.07393428, -0.04265533, -0.0025334458, -0.003354459, 0.03722184, -0.023821907, 0.009809297, 0.027708951, -0.051731464, 0.08956233, -0.01022879, -0.009042924, -0.04169135, -0.03576822, 0.03550797, -0.048446205, -0.030206956, -0.104271494, -0.013613406, -0.037141606, 0.03487834, 0.002543623, -0.060722504, -0.021005962, 0.03814327, -0.024401132, -0.021053022, -0.10927487, 0.007143753, 0.008194036, 0.016984258, 0.037368957, -0.081465304, 0.032049153, 0.109722376, 0.035633113, -0.030794198, -0.012093239, 0.07143202, 0.026358658, 0.04565729, -0.05620668, -0.012990002, 0.08226629, -0.07544687, 0.02452462, -0.07473265, 0.055296756, 0.031788643, 0.040651172, -0.008724669, -0.01599825, -0.0027867437, 0.018573891, 0.020824252, -0.1016324, 0.0077815354, -0.009200083, -0.00058681564, 0.010127048, 0.09169988, 0.04238183, 0.03523272, -0.057862982, 0.069692574, -2.8135997e-08, -0.025951156, -0.08556272, -0.013172015, 0.0010826003, -0.023883462, -0.07342846, -0.06408084, -0.075044595, -0.023922307, -0.0005457676, -0.01742561, -0.032444786, -0.017847912, -0.0017882974, 0.037181426, -0.027978327, 0.03499048, 0.07204913, -0.02494415, 0.03347309, 0.08554927, -0.0063082823, -0.12429608, -0.04446542, 0.04226155, -0.032158036, -0.049282704, 0.015528434, -0.04261431, -0.03294326, 0.039289173, 0.057624783, 0.009132479, -0.099587604, -0.045779604, 0.087741405, 0.074088834, 0.0023760425, 0.0050876494, 0.00068762025, 0.0497004, 0.016829379, -0.028457953, -0.006272014, 0.011990564, -0.024790188, -0.036850877, -0.0314606, -0.052182276, 0.04202914, -0.023870394, 0.018371845, 0.102779135, 0.02658173, 0.010097857, 0.023164518, -0.04954329, 0.01995099, -0.05920692, -0.013886594, 0.12056307, 0.012556265, -0.020075886, 0.03919305\",\n          \"-0.030686801, 0.05178663, -0.036282275, 0.01805509, -0.012500832, -0.032456834, 0.056387715, -0.039414737, -0.019234776, -0.03016933, -0.020715386, -0.021343583, -0.055697862, 0.04212444, -0.05939435, 0.061297037, -0.025513083, 0.028266532, -0.038293388, 0.03456908, -0.012823945, 0.022978311, -0.053938515, 0.050554086, -0.058255088, 0.060309745, 0.005681854, 0.061403498, 0.022319764, -0.07489054, -0.01325103, 0.09944799, 0.027392458, -0.0055757356, 0.012287344, -0.020824334, 0.019337611, -0.0126849385, -0.09676416, -0.051407225, -0.046457242, 0.033503667, 0.0133955935, 0.008385942, 0.0030761138, -0.061049215, 0.0022135938, -0.020495879, 0.13045128, -0.04966123, -0.033366095, -0.04727388, 0.062300157, 0.014884531, -0.14507817, 0.0024622967, 0.052056555, -0.02884853, -0.030261183, 0.052828215, -0.0055969497, 0.065472625, -0.0742677, 0.046615683, 0.056250494, 0.02137631, -0.003209334, -0.035244055, -0.053024523, 0.026077371, -0.08138571, 0.0020733862, 0.033034172, 0.0054504853, -0.06243521, 0.04309563, 0.055831302, -0.17600751, 0.032553777, 0.02661806, -0.0045664334, -0.003348682, 0.016483344, -0.07275637, -0.0077016423, 0.10836787, -0.022954887, 0.040653456, 0.047128256, 0.10256248, 0.008686255, -0.019098923, 0.048289042, 0.08375136, -0.034291536, 0.004494054, 0.055751402, -0.005076708, -0.118275456, 0.11835154, 0.01756303, -0.023197783, -0.02620325, -0.029344779, 0.024989827, 0.008878261, 0.08155516, 0.006457483, -0.081871174, -0.002682576, -0.121059574, -0.0095264, -0.024081467, -0.080057375, 0.08077445, -0.054701768, -0.038668096, 0.07373459, -0.069371074, -0.03177567, 0.00935621, 0.037256125, -0.09156724, -0.05841224, 0.059090942, -0.031998087, -0.09066323, 1.7311574e-34, 0.035543825, 0.01858109, 0.058398303, 0.067712344, -0.030568752, 0.060427178, -0.03091815, 0.023589661, -0.03462091, -0.043721907, -0.09042811, -0.015840184, -0.05053533, -0.070054345, 0.06624054, -0.01856352, -0.002058043, -0.023432076, -0.026689526, -0.031458236, -0.060328007, 0.047354706, -0.0787895, -0.04830952, 0.012030972, 0.06938698, -0.007005573, -0.007818919, 0.011403481, 0.048136458, -0.08553904, 0.01786843, -0.0040395013, 0.00075629714, 0.03717032, -0.018058682, -0.0117213465, -0.046786543, -0.009476197, -0.06255653, -0.0206973, 0.02371892, -0.038219776, -0.0040985867, -0.0017129476, 0.015042276, -0.017861737, 0.066664964, 0.071169935, 0.0040418445, 0.0374568, 0.046138354, -0.02543898, 0.039233282, -0.027501173, -0.014568642, 0.011031914, -0.04786215, 0.028174086, -0.02793969, 0.011772932, -0.07741023, 0.040884044, -0.049523737, -0.01153062, -0.067070134, 0.0048680524, -0.024596203, 0.004751166, -0.04694675, -0.07499861, -0.003754191, 0.0384787, -0.014256231, 0.015711956, -0.054490115, 0.0530201, -0.05045286, -0.019295163, -0.040700424, -0.022167468, -0.09256815, 0.0052372767, -0.033391982, 0.057336573, 0.08408581, 0.010116458, -0.06039459, -0.07295952, -0.019852862, 0.013324306, -0.05747176, 0.08871085, -0.06429174, -0.012049363, -1.1874403e-33, 0.022313029, -0.058036115, -0.006714879, -0.023756778, 0.038197193, -0.012652905, -0.086917244, 0.067952596, -0.04002576, -0.060770035, -0.0014821424, -0.020975323, 0.06212173, -0.024135143, 0.0018451754, 0.007914066, 0.061309878, -0.028853167, 0.023641014, 0.020564368, -0.059597764, 0.07338252, -0.063014664, -0.06340903, -0.030967966, 0.013093163, 0.040875755, -0.0056367414, 0.06320007, 0.052106787, 0.033098273, 0.021836169, -0.06715931, -0.0031425739, 0.09352075, 0.058943685, 0.0065515316, -0.046449732, -0.07598165, -0.018703097, 0.05631652, 0.0067146025, -0.0324693, 0.04084134, 0.036105655, 0.09817325, 0.062493652, -0.058054127, 0.056165345, 0.06856272, 0.023604296, -0.024222182, -0.011665453, 0.1109656, 0.04584148, -0.09524314, -0.0520624, -0.036986053, -0.051347505, 0.020502578, 0.040785458, 0.0066951313, -0.07438032, -0.01645581, 0.031213604, 0.01743215, 0.029326336, 0.114696845, -0.015366937, 0.013354483, 0.047347818, 0.025960801, -0.047770195, 0.03803199, -0.04543219, 0.025076171, 0.04691131, -0.045598403, -0.045875438, -0.022429317, 0.021779561, -0.004724827, 0.004747291, 0.13041322, -0.008549144, -0.031464156, 0.029876823, 0.016494058, -0.075384125, 0.03422509, 0.005260023, 0.13499478, 0.13352649, -0.013732515, -0.042081725, -1.4795399e-08, -0.0154627785, -0.041687243, 0.029411938, -0.05006726, 0.030165218, 0.059826247, -0.0079605635, -0.031835075, -0.0005659463, 0.12717374, 0.07089186, 0.028134707, 0.090556726, 0.11269679, -0.014599761, 0.055576008, -0.043552864, -0.0067312587, 0.026826952, -0.0919001, -0.030242676, 0.016398445, 0.064622134, 0.026280763, -0.017491389, -0.0028874064, -0.039941333, 0.045387078, 0.047994368, 0.07179208, 0.012937521, 0.029343994, 0.0523972, -0.02984834, 0.00012154106, 0.09033688, -0.023085095, 0.012567606, 0.0045341034, -0.11962908, 0.045734685, 0.01642116, 0.016869111, 0.017259398, 0.016390763, -0.08649836, 0.0760181, -0.092127606, -0.011048, -0.06076319, -0.00025043773, 0.12974237, 0.00095416605, 0.044045355, 0.10788838, -0.0014583922, -0.043475974, 0.07976018, 0.00970905, -0.0021693385, 0.04697949, -0.063824624, -0.05622886, -0.009195083\",\n          \"-0.047685783, 0.007452236, -0.009493689, -0.061985206, -0.014787875, 0.06353878, -0.049607463, 0.083359934, 0.047098804, -0.0451193, 0.06477571, -0.04447994, -0.082848616, 0.071906075, -0.08210365, -0.04397295, 0.0213518, 0.08151777, -0.041203, 0.071890905, 0.08650594, -0.09512088, -0.084401, 0.047173005, -0.006159436, 0.010286778, 0.019080313, 0.07162485, -0.011677482, -0.012826943, 0.049953736, 0.09676504, 0.09937613, 0.0043426533, 0.012752958, -0.083957456, 0.024887184, -0.053481225, -0.016130097, 0.056778364, -0.09041987, -0.051473446, -0.019484028, -0.07989443, -0.008706333, -0.07256501, 0.015672415, 0.045853976, 0.020915642, -0.015985193, -0.10731426, 0.047629807, -0.023305291, 0.0785832, -0.035090007, -0.03934409, 0.03666278, -0.028253054, 0.051203426, -0.0040380363, -0.005473277, -0.012562433, -0.02479833, 0.11733159, -0.011230325, -2.628831e-05, 0.0025460562, -0.004805003, -0.10231338, 0.034836452, -0.017415676, -0.10366396, 0.014321722, 0.05627934, -0.004375445, -0.031219386, 0.0217424, -0.05075878, -0.017467182, -0.116184436, 0.053123955, -0.08203386, 0.026222864, -0.030005325, 0.009482228, 0.045506246, -0.000880021, -0.023526678, 0.013752487, 0.0025271962, -0.12105818, 0.06672924, -0.08701323, -0.020433372, -0.016067078, 0.03688526, 0.0045360853, -0.051200986, -0.020938922, 0.067711905, 0.08263682, -0.028079087, 0.045675285, -0.011019159, 0.0052665127, 0.037380993, 0.15232483, 0.031108428, -0.010738256, -0.0022428837, -0.062258814, -0.018781176, -0.049670458, -0.057498813, 0.07050081, 0.015337467, 0.051187303, 0.025749339, -0.050700836, -0.031387284, 0.088520244, -0.05987708, -0.07054817, -0.031432454, 0.009049484, -0.045222078, 0.067416556, 3.702435e-33, -0.032630105, -0.08524748, -0.06617818, -0.009448139, 0.07050918, 0.06784256, 0.01793599, 0.034702104, -0.07542398, 0.028062893, -0.0099161295, -0.06613003, -0.08919572, 0.025567308, -0.0025022845, 0.0214114, -0.012289374, -0.013100601, 0.023234786, -0.029018706, 0.06284944, 0.0055333464, -0.00054183876, -0.00032633814, -0.00070179027, 0.06753017, 0.0027117077, -0.08999017, 0.0060592396, 0.04071995, -0.00052720687, 0.096629135, 0.028840994, -0.04802449, 0.04607867, 0.018630516, -0.010095238, -0.027096212, -0.049629226, 0.017171033, 0.03632994, 0.02691379, -0.081156395, -0.017514681, -0.027897146, 0.022845149, 0.031147746, 0.043603588, -0.0035122521, 0.030543381, -0.015124689, -0.07068175, -0.12117012, -0.040614042, 0.031129219, 0.062011603, -0.0812271, 0.013755592, 0.006607471, -0.055712428, 0.020339405, 0.05647587, -0.07848359, 0.043981485, 0.014053683, -0.06370408, 0.052994676, 0.008187384, 0.041477565, 0.043877993, -0.096932426, -0.010529782, 0.015510319, -0.0010401143, -0.017646827, 0.019171502, -0.057053227, 0.014220971, -0.0022016196, 0.06938753, -0.0043843845, 0.014258066, 0.08256697, -0.004692244, 0.04046725, 0.066877276, 0.030067153, -0.025564762, 0.028914407, 0.07756075, 0.02870148, 0.02175866, 0.037506815, -0.034589898, 0.046614368, -5.0277958e-33, 0.021659411, 0.00046733872, 0.022779543, -0.0019621742, 0.040570866, 0.0022616757, -0.09245778, 0.028094808, 0.0103732515, -0.09667038, -0.028043818, -0.14152998, 0.0017323728, -0.022100791, -0.044265013, 0.02501325, 0.04903557, -0.08518103, -0.05752369, -0.009679273, -0.016873894, 0.003720228, 0.011318219, 0.030009741, -0.00069383986, -0.05621942, 0.068490505, 0.13975428, -0.045280878, 0.029069329, 0.048679586, -0.051218484, -0.032074943, -0.00646877, -0.022929348, 0.12440461, 0.01747196, 0.0345962, 0.02143281, 0.044309653, -0.056499597, 0.0071257926, -0.041133467, 0.0032747607, 0.026112393, 0.013716275, -0.07816167, -0.0067829285, -0.017460952, -0.017038565, -0.0065845856, 0.0091417385, -0.050931886, 0.009772017, 0.045834687, -0.024957092, 0.009243206, 0.009577903, -0.013709275, 0.04212413, 0.0451588, 0.06425238, -0.10162878, 0.005211478, 0.10845517, 0.0430046, -0.016459838, 0.024504276, -0.021581955, 0.036217995, 0.10054283, -0.04332096, -0.04997483, -0.0057307896, -0.056695998, 0.022891056, -0.085238434, -0.011363461, -0.05102281, 0.056131873, -0.05451213, -0.066960946, -0.029222926, 0.04387596, -0.023658773, -0.0028303445, 0.046649717, -0.0056923274, -0.030100552, 0.011605876, 0.027133206, 0.056598406, 0.016632337, -0.046739787, 0.0033148227, -2.0993282e-08, -0.06325015, -0.08380538, -0.04244482, -0.04512486, 0.029174628, -0.008942314, -0.04028702, -0.061754253, 0.07808234, 0.032235395, 0.015398678, 0.0034903428, -0.004441531, 0.07076932, 0.0074111265, 0.0062479717, 0.07552115, 0.0651251, 0.054610644, 0.06709926, 0.08491431, -0.0598091, 0.016603407, -0.12603195, -0.035527624, 0.009739293, -0.011094755, -0.03447111, -0.014612392, -0.013337104, 0.05298821, 0.043269154, 0.025786448, -0.11318454, 0.0059187966, 0.016941857, -0.07432467, -0.052045483, -0.039872106, -0.037467394, 0.13387507, 0.040153954, 0.057992823, -0.042569492, 0.0034317186, -0.0005601981, 0.049192976, -0.09076683, 0.060409468, -0.02093822, -0.06710618, -0.065054804, 0.06793398, -0.012365915, 0.09317803, -0.019325566, 0.10387704, 0.06244571, 0.00046089545, 0.017673356, 0.061082806, 0.07343718, 0.0100643635, -0.052116726\"\n        ],\n        \"semantic_type\": \"\",\n        \"description\": \"\"\n      }\n    }\n  ]\n}"
            }
          },
          "metadata": {},
          "execution_count": 12
        }
      ]
    },
    {
      "cell_type": "code",
      "source": [
        "new_df.to_csv('publicaciones_nombres_embeddings.csv')"
      ],
      "metadata": {
        "id": "6JxY35daKc2V"
      },
      "execution_count": 13,
      "outputs": []
    },
    {
      "cell_type": "code",
      "source": [
        "import ast\n",
        "\n",
        "# Lee el DataFrame del archivo .csv\n",
        "df = pd.read_csv('vectores.csv')\n",
        "\n",
        "# # Convierte las cadenas de texto a listas de números\n",
        "vectors = [list(v) for v in df['frase'].apply(ast.literal_eval)]\n",
        "\n",
        "vectors"
      ],
      "metadata": {
        "colab": {
          "base_uri": "https://localhost:8080/"
        },
        "id": "_ZwJj63qA0b1",
        "outputId": "74af1b6f-bde1-43b0-93bb-0b6cb195ad73"
      },
      "execution_count": null,
      "outputs": [
        {
          "output_type": "stream",
          "name": "stdout",
          "text": [
            "[[-0.8272193, 0.5374147, 0.3562247, -1.2066343, 0.18577701, -0.00095435645, 0.2511441, -0.22523636, 0.8333859, 0.75110054, -0.8088945, -0.48756346, 0.0112392055, 1.58458, -1.1009252, -1.164029, 0.4783319, -0.10668636, 0.4992131, 0.6193941, -0.5692607, -0.34774208, 1.0127072, 0.48699844, -0.14689167, 0.202435, -0.21931683, -0.82408136, 0.5170956, -0.030277537, -1.1069533, 0.771652, 0.09015723, 1.5263358, 1.1531731, -3.5346975, 0.42548728, -0.05340907, -0.11515424, -1.080552, -0.00019123488, -0.07118145, -0.14391263, 0.7636918, -0.5933142, -2.4430425, 0.12784854, 1.1194022, -0.65304095, -0.07019485, -0.36100954, 0.6240599, -0.15179574, -0.08069033, 0.38058922, -0.029924048, -0.9167764, 1.3219228, 0.79609704, 0.8484046, -0.9078117, 0.11677318, -0.48674276, -0.8337232, -0.6154477, 0.05543334, -0.2598581, 1.8958399, -0.76908296, 0.51780725, 0.37600252, 1.3189228, 0.60875666, -1.6426216, 1.0455568, -0.65632117, 0.13932647, 0.813044, 0.06311838, 0.0057316176, 0.6536441, -0.097298175, -1.2636504, 0.6332377, -0.020419734, 1.0806737, -0.83897114, 0.20296703, -0.118819684, 0.4204786, 1.208353, -0.9491314, -0.6614414, -0.05199209, 1.4925194, -0.11310571, -0.7813748, 0.2127994, 1.6462084, 0.6158517, 0.006338818, 1.8453358, 1.6620216, 0.7290522, 1.2027174, -0.08037359, -0.58905005, -1.1121573, 1.5389128, 0.41526604, -0.036742285, 0.4923208, -1.374392, -0.90847206, -1.5396177, -1.0576777, 0.7561934, -0.21616845, 0.9025943, -0.68469465, -0.33585435, 0.42534432, 0.105647296, 1.3940083, 0.65077364, 0.13613969, 0.4856344, 0.15086168, -0.61935365, 0.9253822, 0.031574786, 0.008319434, 0.3801623, 0.48223925, 0.052760676, 0.51906615, 1.5437376, 0.392346, -0.60302114, 1.036268, 0.8916968, -0.5870888, 0.016284743, 1.7604359, -0.24981584, 0.19508247, 2.3239534, 0.5037597, -0.52489287, 1.368775, 0.36822107, 1.4364383, 0.6235866, 0.27806404, -0.23900512, 0.77969784, -0.09779893, -0.043725047, 0.49110758, 0.41547474, -1.3154265, -0.12602809, -2.4727252, 0.7850344, 0.024503147, 0.30401862, 1.6326311, 0.74782276, 0.21784057, 1.4831622, -0.058096595, 0.47855356, 1.6838937, -0.3826152, 0.0072349077, -0.26870587, 2.1526194, -0.67998934, -0.51956743, -0.014134321, -0.025965799, -1.4039325, 0.07938184, 0.9166515, 0.4170296, -0.847343, 1.7021191, 0.52740407, -0.91617256, 1.3968371, 1.0544025, -0.58625335, 2.0124555, -0.32945943, 0.5847694, -1.0051386, -0.2568332, 0.6326282, -1.3893851, 0.8111914, -1.0040612, 0.11869216, 0.03848555, -0.902177, -0.037874725, 1.2659249, 0.53521365, -0.90023965, -0.52319306, -0.10283228, 0.79776, 0.35953534, -1.0642924, -0.1412752, 0.036337618, 0.47714302, -0.17239529, -0.30227146, -0.86706233, -0.16264161, -0.037972897, 0.24487567, -0.3853308, -0.13475794, 0.8310116, -0.48792022, -0.19939522, -1.8271713, 1.2925636, -0.1330477, 1.2776691, -1.2789714, 0.60915786, -1.2420774, -1.21251, -2.2728987, -0.33943188, -0.56451267, 0.2668958, -0.5513078, -1.3831756, -1.9865237, 0.15517384, 0.53536946, 0.60426927, 0.7980008, -0.8393263, -0.63719237, 0.53486437, 1.2393804, 1.7926704, 1.6398326, 0.04707251, 0.081620425, 1.4359777, 0.42627552, -0.805511, -1.317031, -0.44621208, 0.9488256, 1.0640428, -0.16094375, 1.1271166, -0.6754978, 1.0464079, 0.23805799, 0.31724173, -0.10232532, -0.008200882, -0.2927557, 0.732961, 1.0065647, 0.1582534, 0.007418273, -1.4371825, 0.40942648, -0.12054125, -0.27350265, 0.5903628, 1.7985153, 0.81300753, 0.26679882, -0.08181148, 1.154492, -0.6410963, 0.8153454, -1.048632, 1.6950635, 0.6018455, 1.3067327, 0.15378244, 0.7432374, -0.975123, -1.585044, 0.15555175, 0.21353528, -0.48272213, 0.35677087, 0.29362363, -0.6746561, 1.6125989, 0.41473016, -0.3055402, -0.019094232, 0.15720397, -0.08191171, -0.0748239, -0.6891911, -0.7686412, 0.7300385, -0.32068253, -0.53307414, 0.60369945, 0.9526166, 0.5899567, -0.9901337, 1.0305121, -0.5803828, 0.25287786, 0.12478614, 0.28685406, -0.41235685, 0.98755985, 0.45125404, -0.47002268, 0.28025326, -0.43744016, -0.89345443, -0.8111016, 0.106246896, -0.12852491, -0.7636335, -0.24560118, -2.1314561, 2.4463687, -0.48341078, 0.24719578, 0.84928924, -1.7214115, 0.3145013, 1.6596678, 0.20255315, 0.1688738, -0.056523085, 0.06370972, 0.3034334, 0.24389145, 0.17455705, 1.4117916, -0.42685053, 0.121771365, 0.027618418, -0.06607301, -0.6110761, -1.071253, -0.24008256, -0.49071646, 0.023722835, -0.21913952, -0.713511, 0.12725444, 0.5301206, -0.024191558, -0.8401436, -0.5473759, 0.91962117, 1.4972748, 0.35827506, -0.3698603, 0.11645123, 0.63700455, -0.04597381, -0.11131105, -0.84495056, 1.2384773, -0.07298965, -0.18610531, 1.0202632, -0.93689674, 0.8804677, 0.29736355, 1.7969496, -0.9254161, 0.387428, -0.51540154, 0.3437327, 0.0038065547, -0.20155871, 0.7456491, -0.95748967, -0.06736776, 0.042582043, -0.629947, 0.5813973, -1.259644, 0.66511166, 0.08747131, -0.406839, -1.3223585, 0.6611202, 0.52169913, -0.47179496, 1.1413515, 0.08712752, -0.15479128, -0.2697836, -0.2532917, -0.950604, -0.78775716, 0.043041423, -0.14692499, 1.7319169, -1.083464, -1.2365682, 0.44632447, -0.7245801, -0.83452463, 1.1444584, 0.18903548, -0.25280377, 0.45309395, -1.2711895, -0.5708955, -0.63496816, -1.3619081, 0.98921597, -0.24526665, -0.09465807, -0.48670372, 1.3318032, 0.21136522, -0.57210636, 1.9261305, -0.76910526, -0.4138899, -1.0873073, -0.85470855, -0.6524371, -0.008603141, -0.69776773, -0.33033445, -0.45495546, 0.15755485, -0.39757857, -0.37889498, 0.52924985, 0.35028434, 0.29364958, 0.0061674807, 0.07334766, 0.4659376, 0.5276041, -0.82029337, -0.8485516, -1.9521528, 0.20510614, -0.5391822, -0.8060976, 0.30299735, -0.7223227, -0.061163, -0.12665571, -0.78254753, -0.8133159, 0.68720084, 0.25959018, 0.6300921, -1.3405175, -1.0552735, -0.7432917, -0.3432528, -0.20567997, 0.7342121, -0.45805392, -0.3965072, 0.5178891, -0.09099846, 0.038994327, 1.0332385, 1.099722, -1.2113754, -1.5012552, 1.3523009, -0.4324103, 0.98285455, 1.7972151, 0.27566922, 2.278244, 0.31154263, -0.9028127, -1.245011, 0.85141975, -0.31376323, 0.124132074, 0.38149688, 0.3576914, -1.1048846, 0.3418311, 1.3847013, -0.13046144, -0.88044924, -0.4595841, -0.20586087, 0.5763179, -1.2536544, -0.69934183, -1.0937462, 0.5571247, -1.1410117, -0.22333609, -0.93089336, 0.7960742, 0.9999025, -1.0410736, 0.55539685, 0.60625714, -0.45680365, -1.0228229, -0.7747299, 0.47867033, -0.7937052, 0.58591306, 0.53073907, -0.7191676, 0.14515628, 0.506327, 0.024584211, 0.86951727, -0.95929474, -0.8608204, 0.6334338, -0.9071966, -1.1687316, 0.03546992, -0.6132764, -1.6697055, 0.5564842, 0.63632673, 0.5656538, -0.005672468, -1.1895876, 0.40908256, 0.8773358, -1.9510598, -0.22326629, 0.08834724, -0.36326367, 0.23186071, 0.69526863, 0.24915989, -0.8494639, 0.40277007, 0.95155174, -0.49016374, -0.17067984, -0.49945185, -1.5380974, 0.45229238, 0.21946536, 1.1185073, -0.29751998, -0.7507433, 0.46298212, -0.8006095, -0.94297004, -1.1133174, -0.61894006, -0.37874705, 0.1434035, -1.3849527, -0.45148787, 1.2167853, 0.07523929, -0.20000108, 0.66478544, 0.6737115, -0.7968867, 0.6195187, -0.4634616, -2.0287728, -0.9954852, -0.6349996, 0.9887746, -0.6966084, -0.6703827, -0.8846193, 1.8239836, 0.20739987, -1.0058427, -0.634604, 0.4016207, 0.099077515, 0.35135263, -0.41901127, -0.6237884, -0.70219356, -0.66204184, -1.4006945, 1.4457961, -0.38976395, 0.28032175, -0.3882933, -0.3291562, 0.47233808, -0.7965338, 1.4904646, -1.2731072, -0.19432907, 2.058753, 1.0558369, 1.4341425, -0.3384224, -1.1048093, -1.8777256, -0.9339394, -0.7054759, 0.94773984, -0.011775617, 2.2841053, 0.57605076, -0.96563965, 0.6839559, -0.51331955, 1.1056967, 0.6151686, 0.27199906, -0.6765497, -1.2971181, 0.51134986, 0.6283902, 0.663103, -3.2231631, -0.344486, 0.6630366, -0.42463523, -0.94340694, 0.73951554, 0.6099894, 1.3809133, 0.7867407, 0.37322295, -0.0006297231, -0.32397798, -0.06228773, 0.45953676, 0.6017847, 0.8376304, -0.7819948, -0.39987043, -0.9672072, -0.894245, 0.7943714, 0.020654282, -0.17832954, -1.0329423, -0.82043093, 0.9790621, 0.120079346, 2.0883512, 1.1177809, 0.2693492, 1.5083356, 0.25861332, -0.5255172, 0.9582116, 0.3697612, 0.19121641, 0.20691551, -0.70916265, -0.12186493, 0.72410774, -1.9721963, -0.4931097, -0.74466777, 0.48151976, -0.1671659, -0.99046016, 0.17746125, -1.5325998, -0.6649254, -0.5911876, 0.43297195, -0.7409808, 0.45719942, 0.10094673, 0.94426274, 1.5223811, -1.0243968, -0.7379946, 1.381707, -1.6923206, -0.20891851, 0.87828743, 0.61755955, 0.5612746, -0.6190857, -0.2228803, 0.052315913, 1.4061637, -0.30221936, 2.2352731, -0.1686849, -0.40969938, 0.83137053, -0.20334035, 0.66729057, -1.6378655, -0.4904666, 0.12942667, 0.4510197, -0.6887862, 0.278208, -1.1054057, 0.23204994, 0.17653845, 0.14102799, 1.2337708, -0.9192012, 0.32622024, -0.07800716, 0.032363508, -0.3211949, -0.09027788, -0.5437249, 0.81029713, -0.03233907, -1.2068352, 0.74105054, 1.117185, 0.74024063, 1.5127528, 0.60141885, -0.4268926, -0.50442505, 1.1367602, 0.9488028, -0.85783607, -0.31333297, 0.20474292, 0.124263376, -0.32893023, 0.53612125, 0.52230096, -0.4362306, -0.20563725, 0.26485845, -1.6900709, 0.32699656, 0.06339575, -0.63802725, 1.7669158, 1.4211903, -0.631807, -0.40116325, 0.27511597, 1.0111749, -0.20170087, -1.3630635, 1.0333304, -0.1105722, -0.49556017, 0.14726904, 1.0422243, -0.8157783, -0.8312317, -0.061512776, -1.5973573, -0.4388576, -0.035583317, -0.52082753, -0.50870645, -1.040581, 0.5742719, -0.52796566, 0.7487617, 0.64569795, 0.37701404, -2.0227423, 1.1074347, 0.6075036, 0.015042756, -0.32361355, -1.2547045, 0.15370652, -0.41636053, -0.3721301, 0.08721685, -0.09236704, -0.32275888, -0.41004592, -0.46675077, -1.4891635, 0.38556752, 0.46985137, -0.23557456, 0.18507895, 0.4387044, -1.233718, 0.12304786, 0.72348744, 0.5380534, -0.70772403, 0.55429465, -0.13500014, -0.2844426, -0.24642175, -0.7823596, -0.35862255, -0.9892228, -0.19074462, 1.9007318, -2.4949563, 1.14767, -0.19901615, -0.008218687, -0.47357273, -0.3100565, -0.15170534, 0.7416919, -1.3367126, -1.7130551, -0.33871806, -0.09463435, -0.99156845, -0.21586153, 1.4769988, 0.42530492, 0.13291408, 0.53409636, -1.3328681, 0.1513158, -0.21879673, -0.72201085, -1.0241748, 0.43594018, 0.7353685, -0.5692451, 0.1283681, -0.3789259, -0.7407691, 0.10563774, 0.8962631, 0.9546855, -0.75592864, 0.9179948, 0.050629422, -0.40405872, -1.3865008, -0.39430633, -1.1932881, -1.410018, -0.31068933, -0.21028137, 0.5425483, -0.6079614, 0.088592164, -1.7581484, 0.60651916, -0.15540904, -1.6001302, -0.12986182, -0.14239818, -0.4630578, 0.36092934, 1.666957, 0.3177753, -0.48280683, -1.3935349, -0.3119253, 0.39381015, 0.7116706, 0.33471748, -0.39854085, -0.30689582, -0.51777744, 0.7243982, -0.41807854, -1.2491345, -0.059124418, 0.5454318, 1.5901203, -1.0282323, -0.11735503, -0.1762389, -0.4565202, 1.0502458, 0.5972464, 0.110864714, -0.43235123, -0.52510554, -0.1652476, 0.55544925, -0.74135274, -0.26088014, -0.27885866, 1.8140689, -2.4906085, 0.118347, 0.38163945, 0.09907077, -0.23756453, -0.89882606, -0.8515648, -2.4601126, 0.4727894, 0.24319904, 1.4378823, -0.95157844, -0.11162966, 0.036919557, -0.43230838, 1.0146927, -0.74260056, 0.55447793, 1.5556991, -0.68830955, -0.9213937, 0.95180595, 0.65060246, -0.57686305, -0.20543595, 0.10151127, 0.653271, 1.8280729, -1.1253575, 0.26686746, 0.48612225, -1.0136656, 0.42155823, 1.4217118, 1.0194746, 0.009255576, 0.29858813, -0.98260796, -0.5093004, 0.43951398, -0.5414294, 0.638481, -0.11534866, 0.015454418, -1.1530274, 0.9015853, 0.6273086, -2.1199443, -0.5717767, -1.198881, 0.17259568, -0.20173728, 0.5031636, 0.23132923, 0.71334565, -0.56241703, 0.11251117, -1.2153566, 0.19526315, -0.5476708, 0.32018095, 0.8600861, -1.4318792, -0.47374025, 0.31754756, 0.346662, -0.37105212, -0.9383317, -1.7500129, -1.0354851, -0.6002541, -0.026633432, -1.7068859, -0.7018532, 0.11563543, -1.8323534, -0.6320407, -0.039565645, -0.45452452, -0.53872746, -1.2694039, 0.79373306, 1.2451148, -0.07594245, -1.0072994, -1.4380697, 0.22008103, -0.4992229, 0.62708867, -0.4673686, -0.6263276, -0.121778846, 0.6956229, 0.59679574, 0.6242253, -1.3691219, -0.14042574, -0.8999883, 1.1416746, -0.75617146, -0.3540709, 0.29519194, -1.5606964, -0.91781425, 0.47074974, -0.6307109, -0.51505077, -0.3230011, -0.71084267, -0.21526903, -1.0281858, -0.35187772, 0.22424515, 1.9823227, -0.13750233, -1.1804597, -0.9258807, -0.17059544, -1.8279405, -0.09932197, -0.44496742, -1.5686861, 0.42649695, 1.725996, 0.91143584, -0.5122688, -0.6905742, 1.01213], [0.63400257, 0.33624136, 1.0083265, 1.2607312, -0.71230125, -1.0250853, -0.39358252, 0.57999825, -0.23503056, 1.7968886, -0.51988435, -0.6103924, -0.9264382, 0.85457474, 0.9135902, -1.9226727, 0.1991597, 0.23221661, 0.0996368, -0.32350913, 0.25131255, -1.5127618, 0.5531456, -0.40976405, -0.16760321, 1.2419051, -1.1077545, -0.47908315, 0.044014502, -0.6572284, -0.34996405, 0.50409836, -1.9981055, -0.028059533, 0.071859226, -0.74948275, 0.3504468, -1.9624771, -1.7605089, -0.48809722, -0.8484701, -1.4322144, 1.1371938, 1.2379324, -0.8025556, -1.6663874, 0.6239981, -0.7368306, -1.5714499, -0.21210846, 0.5239675, -0.05439048, 0.22520843, 0.321301, -0.8764926, -1.0715461, 0.066223286, 1.0365093, -0.4885423, 0.64708376, -0.22695021, -1.2360445, 0.26347387, -0.8424617, -0.91517127, 1.6945162, 0.11963569, 1.1726143, -0.026341457, 0.382034, -0.38991752, -0.45619965, 0.5381156, -0.05395402, 0.5121639, -0.09203506, -0.40815935, -0.18633078, -0.8658362, 0.04606741, -0.1873788, -0.19355397, 0.6972551, -0.6620589, 0.31438988, -0.12127577, -1.6252601, 0.22650829, -1.2786795, -0.41632286, 0.82227796, -0.44462994, -1.659765, 0.5170067, 0.9063497, 0.910257, -1.4274336, -0.16894536, 0.02188837, 0.2550647, -0.36196864, 0.24381933, 1.204014, -1.9096909, -0.18087399, -1.3072858, -0.050801095, -0.3539122, 0.4929168, -0.062129106, -0.39847112, 0.10806759, -1.3173195, 1.1851315, -1.0518367, 1.1154896, -1.2899947, 0.5017417, 1.5712783, -0.69322276, 0.20129074, 0.80414665, -1.0998712, -0.027178176, 1.2048211, -0.45321643, -0.8319498, -1.6380184, 1.0028372, -1.1788621, -0.007107625, -1.3577503, 0.13889004, 0.77146363, 0.47939107, 0.96603715, 0.20796354, -0.97916687, -1.9721887, -0.37374038, -0.7969434, 0.5541681, 0.87351227, 0.44290093, 0.24702378, 0.10179289, 1.7959082, 0.96292037, 0.3780787, 0.9072468, -0.111557715, -0.5335552, 1.153421, 0.814688, 0.17991313, -0.50600266, -0.04571695, -0.08789276, -0.04209902, -0.28874615, -2.09182, 0.85409945, -1.5569522, 0.1405198, 1.2687654, 0.17308632, 2.1433196, 0.95363593, 0.023525586, 1.250412, 1.528349, -0.092721365, 1.2017857, 1.7274965, -0.0041134334, -1.0275193, 2.1975281, 0.5718824, -1.4236417, 1.1674417, -0.40372035, -0.8202452, -0.5858081, -0.8587813, 0.8592978, -0.3180665, 0.79175985, 1.3275974, -0.018859148, 0.531526, -0.15796176, 0.540223, 0.527345, -0.14518556, 0.064783916, -0.3659755, -0.5410394, -0.79249567, -1.6541995, 1.3109372, -2.0751946, 0.552665, 0.21189581, 0.2668397, -0.410368, 0.18210173, 0.64719117, 0.4483856, 0.15112144, 0.82785535, -0.33749494, -0.612639, 0.57784456, -0.38166887, 0.7366052, 0.9117162, 0.8446021, 0.47460335, -1.3575244, -0.33031425, 0.024558656, -0.5018529, 0.17091262, -0.4244349, 0.3915193, -0.51340973, 0.018505232, -0.65707135, 0.9986987, 1.0594246, 1.1002997, -1.2282567, 0.78454745, -0.04812847, 0.6545704, 1.8943552, 0.72661215, -0.059898213, -0.22081321, 0.6989507, 0.49278802, -0.8614757, -1.2923653, -1.4442046, -1.0019978, 0.033298872, -0.42264935, 0.03188859, 0.6323394, 0.3842028, 2.1477647, 0.8296002, 0.3240448, 2.1815069, 1.2793214, -0.28572968, -0.43328416, -0.65920645, -0.26048514, -0.13094132, -1.000543, -0.0522428, 0.17085622, -0.70909005, 1.8400301, 0.8523766, -0.4205493, 0.7464908, -0.36034334, -0.40902025, 1.6833588, -0.20493026, -0.16243376, 0.56111205, -0.19326812, 0.9917064, 0.4363681, -0.1915034, 0.6334318, 1.890353, 0.67695355, -0.35494477, 1.2255576, 1.1034403, -2.3964078, 0.82539123, 0.5105704, 0.62677336, 0.19631024, 0.26607278, -0.86116546, -0.63131934, -0.6640844, -1.2185017, 1.34793, -0.47984588, 0.7381707, -0.80947566, 0.29666778, -0.09101653, 0.56727815, 0.16496551, 0.47790033, -0.54218507, 0.5982034, -1.1933936, -1.4543077, -0.9222717, 0.98614264, 0.17808382, 0.100427195, 0.6570804, -0.6936133, -0.84624696, -0.40190455, -0.060838632, -0.17371541, -0.1617333, 0.30435264, 0.55675054, 0.11641275, -0.030714426, 2.1653528, -0.5306216, -1.062177, -0.084108464, -1.4371604, 0.35873115, -0.36873093, -0.13299644, 0.5713917, 0.14631887, 0.7279882, -1.7348338, 1.429556, 1.2006906, 0.2133157, 1.1695179, -1.5456128, 0.48653552, 0.5325904, 0.37610015, -0.23336613, 0.8605614, 0.31159422, 0.26880124, -1.5414994, 0.5171669, 0.18296212, 0.89999044, -0.3955224, -0.7357257, 0.030197201, -1.1313001, -1.5756165, 0.58275145, 0.091256134, -0.40605026, -0.8935817, -0.22171056, 1.4818724, 0.29520813, -0.21769433, 0.7048169, -0.3290784, 0.9622032, -1.6924415, 0.16497985, -0.87731934, -0.057321634, -0.0057504023, -0.4169502, 0.9646598, 0.15019596, -0.5289795, -1.656836, -0.6346999, 1.2480736, -1.3162497, 1.3580203, 0.6019292, -0.12129699, 1.2736417, -0.61881274, -0.8061262, 0.015118527, 1.3320476, 0.65532637, -0.6870147, -1.2742281, -0.10858011, 0.25764912, 0.051349707, 0.6520212, 0.3347206, -1.1667093, -0.18807739, -0.865431, -0.70214903, 0.41600776, 0.310189, -0.20995733, -1.227709, -0.79828286, -0.3778388, -0.8811777, -1.1764706, -1.7347482, -1.0284864, 0.2189722, 0.64516646, 1.3981558, 0.7066388, -0.8925217, 0.61603487, -0.8939181, -1.0425395, -0.04004654, 1.8194187, -0.3380206, -0.48200825, -1.0959777, -0.34539124, -0.9439202, -0.14110667, 0.26410335, -1.5744258, 2.1760771, -0.3996028, 0.12090534, 0.15711537, -0.32226193, -0.8169588, -1.3019533, -0.65644747, 0.73514783, -0.9379322, 1.331051, -0.69824326, 0.20374468, -0.33649305, -0.39779258, 0.16306831, 0.14981364, -1.3773645, 0.08010538, -0.11077674, 0.36279038, -0.10663322, 0.704365, -0.24801189, -0.3701799, -0.7173806, 0.043771535, -1.146297, -0.35286126, -0.18057184, 1.336236, 0.60062045, -0.14675306, -0.693392, 0.8954294, -0.40402663, -0.74682164, 0.051918186, 0.37422463, -0.19687729, -1.206439, -1.231167, 0.04792799, -0.610285, 0.31663567, 1.295742, -0.08774059, -0.59789187, -0.22652969, -0.1371734, 0.44643733, 0.6239685, -0.34654236, -0.5372454, -1.1957124, -0.038480565, 1.2390501, 0.19264811, 0.3146093, -0.87905616, 0.09314598, 0.039545592, 0.16047664, -0.34468296, 0.76155525, -0.3444368, -0.121497095, 0.981436, -1.9878234, -1.2841239, -0.27499107, 1.7842934, 0.3452287, -1.6658243, 0.6119917, -0.6186971, -0.76174116, -0.6574352, -0.48807222, 0.33429298, -0.30438754, -1.1972642, -0.38713875, -0.27514413, 0.24267955, 0.082424335, -0.59189343, 1.8687811, -0.743167, 0.15692723, -0.9141736, 0.18369994, 0.26384866, 0.9296549, 0.789536, -0.71365637, 0.13969162, 0.48854163, -0.25837943, 0.6819923, 0.18246053, -0.5597704, 0.063380405, 0.18698706, -1.7035769, 0.15320368, -0.69103944, -1.8730497, -0.75687575, 0.29752418, -2.0525012, -0.33792728, -0.2101381, -0.6286589, 0.30484578, -0.6727371, -0.07599083, 0.9732582, -0.86281174, -0.12609358, 1.1671853, 0.5722207, 1.0025382, -0.04100268, 0.64081925, 0.6575015, -0.17842042, 1.4038166, -1.4087056, -1.3564687, 0.69703674, 0.35743904, 0.27854964, -1.3221681, -0.095912874, 0.19658786, 0.35608864, 0.28824297, -0.45980048, -0.48859173, 0.28142202, -0.3014788, -0.35288024, -0.8218354, 0.93794787, -0.45041505, 0.9439158, 0.75894, 0.11977554, 0.63227606, 1.3054984, -0.96044344, -1.4140167, -0.68231905, -1.0601013, 0.29957306, 0.45169362, 0.91369873, -0.58084327, -0.050473228, -1.2212814, 0.2626175, 0.28811786, 2.0841079, -1.031717, 0.08096996, -0.20727825, -0.14419343, -0.7932097, -0.21657248, 0.14011906, 1.5062876, -0.59271985, -0.24918589, -0.7722302, 0.91613215, 0.025833191, -0.5739779, -1.4882724, 0.20149218, -0.4850185, 0.23610687, 0.057792284, 0.27920514, -0.15081857, -0.08814263, -0.9099449, -0.6164524, -0.3733225, 1.0248897, 1.1366006, 0.9517387, -0.35897163, 0.9724006, 0.7825354, -0.9408458, 0.3950863, 0.87322265, 1.4266185, 0.92045534, -0.10035143, 1.0352128, 0.45439872, 0.53542846, -4.413938, 0.40904388, 1.276454, -0.8115006, -0.7284816, -0.47470847, -0.26109555, 0.55704015, 0.5353479, 0.4112786, 0.001544671, 1.6286459, 0.36556008, 1.3599018, -0.7500673, -0.36133182, -0.08878164, 0.9282689, -1.2304254, 0.57358354, 0.6231544, 0.49616745, -0.23728752, -0.17563665, -1.0941151, -0.07715848, 0.21434969, -0.5044206, -0.15672322, 1.3726032, 1.0191356, 0.14562471, 0.019340752, 0.0051296735, -0.13782161, 0.19397983, -0.43901122, 0.18410157, -0.7825827, 0.15152358, -0.41628784, -0.7426496, -0.60349154, 0.8302569, -0.5966443, -1.1551224, -0.68971926, -0.26059744, 0.511988, -0.5128489, 0.8176521, 0.55815065, 0.6500473, -1.175498, 0.3999622, 1.1921397, -0.4497673, -1.8099598, 0.118980296, -0.5938844, -0.08900469, -0.74606705, 0.8009219, 0.20869407, -0.45465684, -0.51149666, -0.09425084, -0.77659935, -0.07852358, 0.019488974, -0.54558957, 0.15347312, 0.18548694, 0.063604094, -0.7190393, -0.8400978, 0.4444562, 0.12975581, -0.67270064, -1.0565819, -0.6336466, 0.26358548, 0.8870319, -0.76387614, 0.8734567, -1.3348874, -0.4560649, -0.30226284, -0.25136036, 0.55024046, 0.7306582, 1.0538379, -0.39143565, -0.9198744, 0.46323434, -0.24135128, -0.27792996, 1.2841083, -0.70257264, -0.010015995, 1.0703584, -0.13408084, -1.060932, 2.009815, 0.504713, -1.940664, -0.42141587, 0.17774813, 0.38918254, 0.8622284, -0.120827936, 0.516691, 0.12852277, 0.19183193, 0.95491487, -0.66127425, 0.8422834, -0.24076986, -0.33274773, 0.3398657, 1.0217555, -0.8060204, -0.8252924, 0.066129714, 0.17140914, 0.15642625, 0.036469955, -0.72214186, -0.044646345, -0.46526897, 0.42001176, -0.7008912, -2.2787004, -0.22016498, 1.7112406, -1.0518565, -0.11846846, 0.01664927, 0.11793056, -0.29881036, -1.6079098, 0.9995893, 0.8238815, -1.0103756, -0.6946009, 1.0710028, -0.56415, -0.39655614, 0.017814934, -0.8168115, -0.24859947, -2.0286255, 0.09527265, -0.83506376, 0.8239755, -0.018909711, -1.7084177, 1.0261099, -1.3566577, 0.91212296, -0.8751943, -0.19642495, 0.33074394, -1.2931436, -0.29848456, 0.22231735, -0.7562798, -0.40545577, -0.30081505, 0.9572409, 1.0180643, 0.4084635, -0.7159552, 0.2705732, 1.2315221, 0.90514517, 1.3253274, -1.1828381, 0.7609488, 1.4868518, -1.8084505, -0.36108264, 0.66914386, 0.9849074, -1.0039102, -0.080099724, 0.5455274, 1.1727921, -1.0127732, 1.2144935, -1.1873623, 1.2306373, 0.25233448, 0.8877191, 0.7321052, 0.24136566, -0.6522753, 2.3525095, -1.7981414, 0.66947013, 0.47238776, -0.291977, -0.66127825, 0.4527808, 0.17808872, 0.90956384, 1.3474103, -0.1451099, -1.0807235, 0.23371229, 0.72674775, 0.6821442, -0.9072683, 0.9370919, -0.45244804, 0.8930873, -1.2663519, -0.02067863, 0.1951851, -1.4291787, 1.2784523, -0.74201566, -0.06750252, 1.2991991, -0.5141398, -0.06368016, 0.4861863, -0.08606045, 1.2185911, 1.088429, 0.40437847, -1.0098951, -1.0797296, -0.09635395, -1.8582608, -1.0305744, 1.5070719, -1.1691402, -0.25220728, -0.32128957, -1.0408304, 1.0995319, 0.2927429, 0.65464777, 0.39309707, -0.5996386, -0.4962007, -0.19295268, 0.23805524, -0.5746381, -1.6155875, 0.48406258, 0.113644145, 0.17647357, 1.4591315, 1.4949399, 0.80523866, 1.3061699, -0.28444096, 1.0560962, 0.5237783, -0.6320136, 0.80994964, -0.6405262, 0.69863784, -1.3242066, 0.52818125, 0.56809914, -0.52767503, -0.20820193, -1.5998615, 1.1591885, -0.030005688, 0.010545885, -1.3487427, 0.29793328, -0.38070688, 0.11740717, -0.5404883, -0.083636045, 0.1682077, -0.010672283, -0.5311792, 0.7998205, -1.102881, -0.26904222, 0.58612084, 0.026485853, 1.0611756, -0.55795157, 3.0029752, 0.53950113, 0.23422584, 0.0589124, 1.693856, -0.92872083, -1.6628588, -0.8365693, 0.7038079, -0.6956984, 0.024364358, 0.021420298, 0.3373423, 0.15491831, 0.14625223, -0.14978579, 1.9762528, -0.44384927, 0.07155848, -0.5131233, -1.0828824, 0.8733011, -0.61654794, -0.08231268, -0.9409096, 0.54942244, 0.16833481, -0.8568883, 0.34683102, -0.16059788, -1.1096778, 1.3751074, -0.6882526, 0.4805754, 0.69884276, 0.89485556, -1.2154777, -0.44500205, 1.212931, -1.4118071, -0.5052942, 0.31069624, -0.65907204, 0.061598346, -0.85847425, -1.0470241, -0.39921036, -0.7114884, -0.7438012, 0.27776328, -1.1220657, -0.24204057, -0.16198458, 1.1031398, -0.21737587, -0.98883665, 0.19670072, 0.78357923, 0.088544026, -1.6417068, 0.011459031, 0.5158312, -0.18731603, -0.8813495, 0.0090458775, 0.21953145, -0.26222903, -0.31643814, -0.16848473, -0.09417656, -0.48762617, -0.012763295, -1.2178869, 0.9238605, -0.2974712, -0.2956727, 0.09729325, 0.2485314, 0.2061391, -0.09860553, 0.09173788, -0.021227984, -0.4107808, 0.22343072, -0.50415015, -0.46450558, 0.5420356, 0.5864456, -0.71269304, 0.57243615, 0.07985023, -0.8871405, 0.35349602, -0.33766973, -1.0721557, -0.2737827, -0.10021749, 1.1678771, 1.0811077, 0.5759014, 0.7895159, -1.2372398, -0.24113712], [-0.6182691, 1.1654191, 0.07757138, 0.5805715, -0.00015180199, 0.7507457, 0.17272295, -1.8874093, 0.39784318, 0.42869988, -0.81799895, 0.5450158, -0.50820786, 0.65120703, -2.0055547, -0.8965168, -0.48375595, 0.31702864, 0.5466931, -1.6049619, 0.20560302, -0.59139967, -0.17363985, -0.6120097, 1.0514922, -0.41727567, 0.03464107, 1.319662, 0.24463537, -0.5475352, -0.48822397, 1.3914275, -0.66242146, 1.8943807, -0.5307598, -0.5701493, 0.08621249, 0.116361775, 0.9856546, -0.3518688, 0.11594887, 0.43166634, 0.23397587, 0.72693056, -1.5917684, -0.17852443, 0.89827627, 0.9758938, 0.18130061, -0.2314408, 0.011132421, -1.1317255, -1.2860807, -0.766518, -0.747369, -1.0988518, -1.6926583, 0.31481394, -0.41076294, -0.4545157, -0.67770946, 1.386217, -0.9677816, 0.00943045, 0.38700068, 1.3716089, -0.98035926, -0.29888788, -0.27998403, 0.30061305, -0.538403, -0.20341541, -0.4867149, 0.019080754, 1.0137873, -0.0031644988, 0.950056, -0.8076213, -0.792743, -0.6716153, -0.25155565, 0.62365204, 0.1549721, -0.8165673, -0.5569331, 0.18927246, 0.5905668, 0.120542735, -1.6650478, -0.66325885, 0.66752356, 0.5533165, 0.4038254, 0.50342536, 1.1363, 0.49614912, 0.07737572, -0.7627866, 0.41149953, -1.8566058, -0.1134324, 0.4509721, 0.18333457, 0.82032174, 0.68967175, -1.6444529, 0.843443, -1.1246383, 0.07777044, 0.1680976, 0.6780456, -0.74421424, -0.61817056, -0.94179773, -0.81306314, -0.6233792, -1.6156198, 0.37393296, -0.11711679, -0.7168342, 0.28144655, -0.009894618, -0.060940433, 1.9388143, 0.26513752, 0.31784356, -0.06551508, -0.858356, 0.22411159, -0.2953139, 0.25498712, -0.19907933, -0.42386302, 0.23376076, 0.3599428, 0.962687, 0.05434118, 0.07347256, 0.11820159, -1.1612124, 1.401283, 0.8630418, 0.94445676, 1.3037177, 1.3424655, -0.019073106, 2.5443165, 0.371224, 0.8339644, 0.57561725, -0.09322507, 0.3804012, 0.29174268, 0.6942074, -0.4732819, -0.52704996, -0.608398, 0.2018997, 0.7952747, 0.34692362, -0.7442978, 0.9504416, -0.96633095, 0.64377517, 0.32390514, -0.21414556, 1.27946, 1.2802008, 0.93631715, -0.0013048914, 0.11095721, 0.9623864, 0.608489, 0.33633053, 0.4651762, -1.6042128, -0.035949443, -0.058845595, -0.5013504, 0.5261644, 0.31302312, -1.0286797, 0.41756114, -0.41501296, 0.38501713, 0.049833793, 1.2980307, -0.29376101, -0.3944384, -0.77290905, -1.134374, -1.7805514, 0.8476975, -0.28267732, -0.9443184, -1.4100876, 0.4352318, -0.9879374, -1.2627711, 0.040334534, -0.57544684, -0.5325897, -0.9920623, -0.61539644, -1.284349, 0.5409774, 0.78749, -0.6207607, -1.014311, -0.56059414, 0.35713112, 1.7910165, -1.124567, 1.6017852, -0.7358788, 1.0353897, -0.16267282, 0.49087718, 0.30106437, 0.12621166, 0.6645909, 0.8071786, 0.31446102, -1.6777184, 0.36831042, -0.23919922, -0.45930636, -1.6932045, 1.3612605, 0.2727041, -0.083354056, -1.2574219, -0.089884914, -1.8792076, -1.2360938, -0.24908419, -1.0759948, -1.260556, 0.26300722, -0.3445027, -1.8545947, -0.25953907, -0.10312043, 1.6582968, 2.5979977, -0.2037673, -1.0528699, -1.0764903, -0.28420112, 0.7655037, 0.4447708, 0.5001807, -0.28405678, 0.48675987, 0.5610241, 0.107258886, -1.0630788, -1.4897163, -0.9063767, 0.55106056, -0.6350456, 0.33448225, 1.5011376, -1.228515, 0.15895559, 0.11365848, -0.35011497, 0.060606223, 0.008839258, -0.75608665, 0.69132495, 0.9960603, -0.81915635, -0.34210205, -1.1240114, -0.21336845, 0.08192606, -0.18868664, -0.5316328, 1.8372971, 0.8092023, -0.47075385, -0.5200631, 0.1579218, -0.6734014, 0.4912262, -0.0025108214, 0.43361813, -0.72591585, 0.92560935, -1.1250672, -0.4267623, -0.3585718, 0.13189851, -0.0039269393, 1.1965538, 0.17977425, 1.3406112, 0.024262356, -0.46069837, 1.1219633, 0.2672601, -0.6620999, 1.2057495, -0.59986985, 0.09754959, 0.91997385, 0.09777201, -0.12054624, 0.5065819, -0.26324457, 0.1088447, -0.86511713, 0.6989819, -0.40882546, 0.034457855, 0.26257184, 1.475619, 0.28197005, 1.1316371, 0.40820852, 1.57745, 1.7671293, -0.35947382, 0.011720357, 1.7999406, -0.5520556, -0.23482043, 1.3825973, -0.35038948, 0.6596934, 0.55441564, 1.2468381, -1.2645028, 1.4100035, -0.22841431, 0.30277926, -0.80834186, -0.5995182, -0.5995783, 2.1889148, 0.8576787, 1.1380309, -0.8920059, -0.20571938, -0.6437785, -0.6594264, -0.47128722, 0.18319517, 1.1073624, 0.7373795, -0.59745175, -0.09926789, -0.57735395, -1.980369, 0.546625, -0.42213014, -0.12040593, 0.3003078, -0.969465, 1.0828023, -0.6450349, -0.32994726, -0.83311474, 0.7435683, 0.077270806, -0.30247986, 0.22151195, -0.54668623, 0.009639908, 0.28959605, 0.2882312, 0.90808535, -0.5056283, -0.27763343, -0.38246933, -0.25967038, 1.0043001, -1.0621847, -0.38074818, 0.8486953, 0.6809776, -0.10781237, 0.10621754, -1.2662791, 1.7837611, 0.26076558, -0.5394676, -1.1805662, 1.5941681, 0.87052155, -0.5596249, 0.26739848, 0.2045164, -0.5048921, 0.12648632, -1.3797004, -0.50133365, -0.58920205, 0.5269146, 1.9258027, 0.03920601, 0.48520482, 0.29046893, 0.7405807, 0.54939836, -0.7189953, -0.7576161, -0.5089276, -0.80190873, -0.5689294, 0.5713639, -0.48451194, -0.8089796, 0.14343706, 0.38374278, -1.2757255, 1.5183192, 0.07961468, -0.5259454, 0.34482133, -0.95813906, -0.61856586, -0.72130483, 0.49984947, -0.9835876, -0.7400433, 0.0034792467, -0.31993625, 1.3158011, -1.3328979, 1.0588243, -0.43888128, -0.40016478, 0.21476977, -0.26491418, -0.7628349, -0.02770584, -0.25735652, -0.31540158, -0.82456404, 0.5275233, 1.8207725, -0.38564107, 0.058755394, 1.3445299, 1.9785306, 0.8725484, -0.42673934, -1.4145002, 1.6546777, 0.11512286, -0.8653911, -0.3220472, -1.388105, -0.5130653, -1.3257607, -0.11572661, -0.332776, -0.25423187, -0.47048965, 0.97843397, -0.8280113, -0.7850154, 1.053936, -0.2136912, 1.3269973, 0.25643215, -0.43997765, 0.11465486, 0.2357088, 1.3269995, -0.066350065, 0.08227183, -0.59557444, 0.10093654, 0.41758057, 0.340172, -0.80433244, 0.57761294, 0.122879684, 0.7840069, -1.5104815, 0.9018004, 2.124322, 0.5362082, -0.54687697, 1.410649, -1.0017176, 0.47107753, -1.6819627, 0.8337729, -2.4007614, 1.1172909, 0.6973954, -1.223455, -0.8340848, -0.5036718, 1.059453, -0.2542894, -0.065852426, 1.5617709, -0.13154066, 0.9448546, 1.0394241, 0.09066715, -0.998109, 0.5135365, -1.3635621, 0.14041784, -1.4708503, -0.46527374, 0.21252874, -0.13199623, -0.042479567, 0.12504368, 0.38794035, -0.98106754, -0.28544736, -1.2166748, -1.3657346, -0.10348521, 0.36515883, -0.9663723, -0.37463823, 0.20861828, 0.12342075, -0.17686962, -1.0785605, 0.97804797, 0.27141663, -0.21956705, -0.7522989, -0.36564517, -0.05379336, -0.69377893, 0.4333114, -0.84071314, -1.0520104, 0.1571952, 0.48954868, 0.65646744, 0.06738594, -0.4606733, -0.15880167, -0.4394736, 0.94245327, 1.2991396, 0.24814433, -0.1160818, 1.38354, 0.27633747, 2.373808, 1.6536515, 0.67175394, 0.47698104, -1.418297, 0.558451, -0.11883674, -0.048782375, -0.40302947, -0.8671998, 0.9571765, -1.3905195, -0.48465115, -1.584179, -0.18459974, -1.079443, -0.77165335, -0.18922316, 0.53116745, 0.23524563, -0.3022781, 0.59101766, 0.55732316, 0.20669638, 0.16161922, -0.25482908, 1.0268523, -0.107238755, -0.12727875, 0.08174468, 1.4047567, 2.2782824, 0.8123002, 0.8315533, -0.101275645, -0.27947387, -0.36744675, -0.6935527, 0.2559531, 0.048617672, -0.2581589, -1.0045165, 0.30434635, -1.0185213, -0.20714419, -0.50545263, -0.3791792, -0.5928041, -0.04260335, -0.50872004, 0.81052524, -0.17096657, -0.59442985, -0.58500063, 1.209278, 0.81831145, 0.5955029, 1.3835082, 0.4721768, -1.1956427, -0.19603318, -1.266831, 0.15722145, 0.06359789, 0.51391876, 0.8593209, 1.9520831, -0.44816583, 0.38274533, -0.52926266, -1.0150892, -0.51669544, 0.10366966, 1.1674212, 0.3063802, -0.20343839, -0.0740098, 0.772004, 0.17142957, -4.348795, 1.3895864, -0.05601633, 1.4179343, -0.046270523, 0.3217022, 1.5596375, 1.0505736, -0.013899066, -0.11885444, -1.0730294, 0.3901132, 0.12222838, -0.6233094, 0.7771758, 1.6707991, 1.0772271, 0.9454267, -1.4181979, -0.88085204, -0.599343, -0.46343404, 0.17427579, -0.9388378, -0.20899989, 0.0908084, -0.038793474, -0.5230546, 1.3261716, -0.27682617, 0.86076444, -0.06576859, 0.57680386, -0.15140817, 0.8481791, -1.3463745, -0.49055898, 0.90702945, -0.13135998, 0.30292705, -0.095270224, 0.27251923, -1.1953399, 1.4853653, -0.6047259, 0.0907154, -0.12518871, -1.6579232, -0.26805246, -1.591434, 1.3994074, -0.13365397, 1.0456492, -0.40829194, 1.0778261, 0.04571603, -1.4118048, 1.16545, -0.48405224, -0.57480025, -0.48576638, 0.2846784, 0.52836174, 0.13652876, -0.08004432, 0.8455182, -0.3686707, 0.4873698, 0.39326763, 0.60683453, -0.28112102, 0.46963656, -0.81127506, -0.64018965, 0.50788796, -0.3832409, 1.2536619, -0.62661165, -0.025820097, 0.06634421, -0.4149502, 0.20697035, -0.82352704, -0.18630679, 0.7372451, 0.93422574, -0.6414688, -0.7235124, 0.08742858, -0.68529403, -0.8193816, 0.81905776, -1.3104429, 2.08789, 1.5748773, 0.29790613, 0.5183373, 1.0288038, -0.016377816, 2.0041664, -0.6306377, -0.5159499, -0.7836621, 1.2600524, 1.1668319, -1.3568876, -0.989711, -0.79188156, 0.5386441, -1.782133, 1.4423076, -0.6070597, 0.11303768, -0.20515925, -1.4140594, -1.1005827, -1.076557, -0.61638784, 0.25278574, -0.08389103, 1.036186, -0.2399091, -0.110297136, -0.21169937, 1.0302573, -1.1747553, -1.791346, 0.38507158, -0.26712245, 0.11886503, -0.08174798, 0.41973475, -0.6769699, -1.6970998, 0.8831052, -0.7236657, -1.3983305, 0.13184741, 0.49642682, 0.009113295, -1.3738523, 0.7410527, 1.0011338, -0.54143685, 0.95777214, 1.0765775, 0.7279576, 0.8191146, 1.5983602, 0.3699129, 0.32459885, -0.21497796, 0.26946643, -0.21226971, -0.9800586, 0.49202496, -0.14603622, -0.4965061, -0.5716231, -0.22466427, 0.35396048, -0.26661918, 1.0146949, -0.98008347, 0.43919313, 0.09416248, -0.45991707, -0.84937996, 0.19718498, 0.47246635, -0.4514229, -0.8606238, -0.5014567, -0.5483311, -0.08332282, -0.6901558, 0.35437068, -0.81189007, 0.30541244, 1.2441354, -2.7991247, 0.8530776, 1.0982913, 0.93945456, -0.78815335, 0.34612748, 0.34186897, 1.5368818, 0.42794335, 0.8823232, -0.27747896, -1.9542717, -0.4505452, -0.009397038, 0.58402336, -0.1109597, -0.75618863, 1.6850609, 0.5946551, 0.27225548, 0.69354665, -0.15384948, -0.84493214, 0.29186928, -1.8880346, -0.8515751, 0.5675132, -0.68566185, -0.33579174, 0.71157867, 0.41530567, 0.498885, 0.057699203, 0.3361601, 0.17758577, -0.7467507, 0.29702795, -1.0598755, -0.87903416, -0.737037, 0.4366359, 0.27971524, -0.71421444, -0.9851632, -0.8877921, -1.1726223, 0.26891655, 0.4396877, -1.0124824, 0.21208926, -1.3011407, 0.26712382, 0.61136943, -0.009960064, -1.2180806, -0.49525467, -0.047192387, -1.1306002, 0.20675023, 1.3542558, -0.61741626, 0.4182812, -0.47957456, 0.019594599, 0.10238382, -0.89394253, -1.1820035, -0.21651545, -0.84252155, 0.18659818, -0.110875115, -0.208501, 2.1626022, 0.3267929, 1.3268052, -0.07685981, -0.07769584, 0.6004317, -0.04564583, 0.4035404, -0.23884077, -0.03464095, -0.7303909, -2.3450518, 1.8232117, -2.494498, -0.6388589, -0.03685787, -0.32135358, -0.11879689, -0.946994, 0.1483712, -0.61758506, -0.00582814, -0.8314863, 2.2087228, -0.9222419, -1.1939875, -0.4366856, -0.41220334, 1.6185013, 0.26333922, 0.50425935, 1.5505363, 0.21004021, -0.28038704, 0.62494266, -1.1472074, -0.18800715, -1.0536693, 0.12028579, 0.5697154, 2.8398714, 0.74071586, -0.028175035, -1.0358243, 0.71957123, -1.0726975, 1.0606189, 0.7980241, -0.66891587, -0.35931185, -0.7902621, 0.51766574, -0.41400433, 0.025624814, 0.8132964, 0.39452198, 0.53257513, 2.1521115, -0.6073158, 1.0576905, -1.0829703, 0.05553438, 0.03423911, -0.64049935, 1.5386957, -0.34453598, -0.16883734, 0.39686093, -0.47927073, 1.3516377, -0.7446878, -1.3569251, 0.23785162, 0.342678, 0.5280782, -2.7790833, -0.008360536, -0.11641418, 0.48759523, -0.74800634, -0.5942321, -1.2536397, -0.73064125, 0.66823953, -0.7214168, -1.8522497, -1.0372434, 0.2673889, -1.2422254, -0.16523771, 0.011744289, -0.66923624, -1.0602765, -0.93814844, -0.50360215, 0.36360106, 0.05116504, -0.5649474, -0.1527386, 0.018727355, -0.21466005, -1.4740448, 0.49493316, -1.133027, 0.22270666, 0.049737755, 1.7420875, -0.6735363, -1.5334035, -0.8034016, -1.0606776, 1.0497726, -1.08085, -0.74643016, -0.270081, -0.22571184, 0.19318098, -0.09587177, 0.28344062, -0.14177136, -0.21731548, 0.3538885, -0.98111016, 0.7003999, -0.16355057, 0.7883178, -0.1897195, 0.14249091, -1.1051183, -0.9365749, -0.084409855, -1.2715704, -0.37525013, -0.2273745, -1.2476109, -0.43595845, 0.9851787, 1.506961, -0.33915883, -1.6110382, 0.15468968], [-1.0930609, 0.6945389, -0.22535357, -0.5546615, 0.63048553, -0.049758464, -0.8732395, 1.2965711, 0.35937834, 1.0963343, -0.36630014, -0.3740352, 0.5123732, 0.57619286, -1.0299476, -0.9297377, -0.23226738, -0.16170014, -0.24857055, 0.030950762, 0.85871243, -2.3184135, 0.06576973, -0.213703, 0.4269845, 1.0209129, -0.42262655, -1.0947938, -0.7125655, -0.4981729, -0.85607135, 1.062998, -0.6331878, 1.2162951, -1.0941511, 0.11084419, -0.6576549, -0.765425, -0.34904063, 0.8586561, -1.2988838, 0.56523883, 1.7467903, 0.75872374, -0.7223081, -0.9832864, -1.4015061, -0.57943577, -1.1069218, -0.6238332, 0.6753186, -0.2815363, -0.662231, -0.100817144, -0.5816555, 0.8411342, -0.19129185, 0.32072148, -0.61827165, 0.39720908, -1.274354, 0.23995334, 0.7840333, 1.1976742, 0.663057, 1.2427168, -0.32265532, -0.14006616, 0.744438, -0.5863758, -0.043830883, 0.5131735, 1.0337256, 0.0550354, 0.38376135, -0.402669, 0.97172445, -1.8522215, -0.5730707, -0.14713165, -0.24019553, 0.41516086, 0.68062824, -0.6164884, -0.4392161, -1.0370114, 0.43421465, 0.6486748, -1.6084391, -1.4268128, 0.6623354, -0.24864069, -1.3490503, -0.7788655, 0.3877712, 1.1194193, 0.96627414, -1.7196019, 0.05916865, -0.8787116, -1.5123092, 0.1276387, 1.3697207, 0.48455238, 0.9224967, -0.19288589, 0.54870653, -0.26253822, 0.2320382, -0.15950435, 1.2252687, -0.21931791, -1.4519879, -0.4350753, -1.9195542, -0.43202233, -2.5867984, -0.5268839, 1.1890979, 0.8197087, 0.44358072, 0.4200989, -0.5305193, -0.7282231, 0.890826, -0.06199369, -0.6714049, 0.13249998, 1.4763522, -0.12518483, 0.4507061, -1.1058525, 0.99140066, 1.0113868, -1.1021351, -0.071876585, 0.46370703, -1.5850822, -0.06113143, -0.7394574, 0.12606107, 1.1504589, 1.2241973, 1.2885733, 2.5407093, 0.67837656, 2.7461894, 1.4745078, 1.4025987, -0.9938887, -1.130298, -1.0476168, -0.262879, 0.73309726, -1.1969995, -0.63040966, -0.974616, -0.9629404, -0.3878609, 0.5652137, -1.6689785, 1.3301054, -2.500936, 0.60064536, 1.411338, 0.22034268, 0.34655106, 1.1078821, -1.628838, 0.73861265, 0.5902574, -0.39943588, 1.0919995, 0.40112007, -0.3847139, -0.9823946, -0.07297953, -0.81340426, -0.041430604, -0.3493205, -1.4092581, -3.3006463, -0.774173, -0.611923, 0.07897816, -1.036912, 0.5601717, 0.4686995, -0.7124302, -1.3225012, -1.5261289, -0.5215612, 1.2240704, 0.44895643, -0.10645197, 0.6831235, 0.52429783, -1.0794569, -1.7298032, 0.29379755, -0.80959004, 0.53095365, -0.25717807, 0.26079813, -0.4304376, 0.49614897, 0.890842, -0.56863785, -0.60418695, 2.2220678, -0.081793666, -0.4292502, -0.91335344, 0.096893564, 0.5838492, 0.7108927, -0.4583659, -0.15179777, -0.55642587, -0.22490956, 1.6829573, 1.0089369, -0.6407014, 0.034582864, 0.13996544, 0.32102835, -0.32714868, -1.0752878, -0.15782066, 0.15088356, 0.8994949, -1.0846553, 0.10193835, -0.5275325, -0.69736916, 0.5315426, 0.8653767, 0.008324171, -0.40549716, -0.5300626, 0.45393643, -1.1445858, -1.9563769, -0.48134753, 1.3834624, 0.5277275, -0.43666664, 0.42549485, -0.092878945, -0.7166784, 1.2997584, 1.1466919, 0.005658374, 2.9273918, 0.40381, 0.4855414, -0.6137372, 0.12354946, -0.18330596, -0.85472536, -1.0332539, -0.8792186, -0.16963905, -0.38336432, 0.48483783, 2.394138, -0.11046997, -0.17663643, -1.1962574, -0.64319867, 0.6401248, -2.0900877, -1.1802198, -1.6302166, -0.71346223, -0.86504453, 0.030049155, -0.0042455713, -0.73398256, 0.7123726, 1.0201117, -0.47063327, -0.3603055, 0.29358998, -3.0554357, -0.094222076, 0.8800244, 0.85307455, -1.072587, 1.1495087, -1.0055898, -0.6361598, -0.37890646, -0.66096854, 1.1306762, 0.23073922, -0.5218387, 0.0067255856, 1.183933, 0.59989953, -0.25908017, 0.22908875, -0.70952535, -0.2933304, -0.8444691, -0.09153005, 0.0043994375, -0.9165538, 1.6001986, 2.2143662, 0.5015975, -0.45613837, -0.678848, -1.6098032, -0.90575075, -0.37040037, -0.09364635, 0.6555604, -0.6339196, 0.077785395, 0.08278927, 0.29002514, 1.4628916, 0.031084124, -1.0566183, 1.9613836, -1.1211427, -0.008509528, 0.4970659, -0.56677455, -0.22420974, -0.83557, 0.5961379, -1.3972721, 1.1195396, 0.27353877, -1.0429376, -1.8083187, -0.19971293, 0.19955492, -0.32039282, 0.10886398, 0.74018055, -0.114250384, 0.5600034, -0.32434148, 0.025353258, 1.4463019, 0.90940374, 0.35095426, 0.43736392, -0.91462404, 0.45876518, 0.6257265, -0.8582547, -0.7478309, 0.1897385, -1.2118939, 0.2542302, 0.614872, 1.2474651, 0.31628737, -1.395014, -1.0019796, 0.43383643, -0.46533915, -0.40392694, -0.2932922, -0.061964978, -0.69735575, 0.1892128, -0.620219, 0.8458803, 0.42228308, -0.51082045, -1.66504, -1.1470714, -0.12716417, -1.3930372, 1.99895, -1.2238879, 0.034058522, 0.8603218, -0.19876169, -0.9989146, 0.75227946, 0.41219974, -0.26622716, -1.8781503, -1.4814926, 0.11042703, 0.5465781, 1.3463507, 1.4592998, 0.5233863, -0.3223441, -0.107197486, -0.40320194, -0.69223684, -0.24300985, 1.8038981, -0.25733417, 0.1907256, 0.5188106, -0.4920579, 0.59003335, 0.3181935, -1.1375339, -1.3299218, -0.19695355, -0.50029707, 1.1335715, 1.0700907, -0.21102044, -0.07379398, -0.46889716, 0.21252494, -0.12259679, 0.33547872, 0.830937, 1.5957985, -1.0088012, 0.09293312, -1.2202692, 0.55907863, 0.4243666, -0.6838385, 0.9586501, -0.9095327, -0.15712532, -0.6320116, 0.035072077, -1.4389162, 1.9466599, -1.4148155, 1.3590809, -0.22070245, 0.9851626, -1.193776, 1.6402757, -0.27359796, -0.68383735, 1.4543452, -0.41914752, -1.1444502, 1.3834683, -0.095204085, -0.026814824, -0.73981255, -0.18266395, 0.93621516, -1.559836, -0.7971215, -0.32314065, -0.91754353, -0.20168108, -0.8509501, 0.58103, 0.20202337, 0.29044193, 0.21817124, 0.75662714, 1.3539172, -0.604137, 0.472829, 0.057263523, -0.39422807, -0.26166, 0.45793644, -1.746754, -0.029555751, 0.19723077, 0.09015102, 0.41723433, -0.45994467, -1.3806511, -0.08999994, 0.2118333, 0.6262669, -0.71807593, 0.75066113, 1.6094948, -0.3509709, -0.3557173, 0.9277193, 1.4190427, -0.8003267, 0.09582176, 0.05941204, 0.46969438, -0.9581589, 0.5471316, -0.83902955, -0.28575617, 1.0744233, -0.7871134, -1.17439, -0.73671776, 0.61305135, 0.27548042, 0.40393114, 0.74342173, 0.34238783, -0.25300214, 0.39921847, -0.009778358, 0.5874727, -0.6016223, -2.0905886, -0.6896548, -1.2354212, -0.17220956, -0.055456765, -0.85679394, 1.1867371, -0.5792317, 0.0848193, -0.1749589, -1.029543, -0.076320484, 1.0091493, -0.32010394, 0.35277995, -1.1172913, 0.22554992, -0.037381157, -1.7119613, 0.78835225, -1.4055967, -0.67190456, -0.0010120163, -1.5099491, 0.22095184, 0.06410118, -1.5810367, -0.18689288, -0.94813776, -1.3208414, 0.151332, 0.9168255, 0.030750109, 0.2804682, -0.19310199, -0.5616069, 0.6392935, -1.2488434, -0.069281995, 0.3979067, 0.52477425, -0.50624317, 0.15635653, 0.1804003, 1.0039841, 0.9875218, 1.6067947, -1.1448059, -1.6283505, -0.03559825, 0.9590691, 0.769122, -1.3805791, -1.2457924, 0.2843686, -0.09105916, 0.6795615, 0.52370477, 0.5532034, -0.27690163, 1.8374712, 1.0381112, -0.61480916, -1.4514655, -0.18037643, 0.08305002, 1.0505277, -0.048048828, -0.46591142, 0.3225597, -0.12038974, -1.2387766, -0.7454785, -0.3342225, 1.6556056, 0.76626873, 0.43377465, -0.6417367, -0.52516794, -1.6600834, -0.5436139, 0.9439361, -0.5412136, 1.2834574, -0.52920836, -0.065682195, 0.7670928, -0.029993406, 0.26572672, -0.25706235, 0.20409077, 1.2640948, 1.6355509, -0.2961567, 0.08073343, 0.13420784, -0.35183853, -1.1256317, 0.7003647, 0.15201706, 0.08724294, 0.8831231, -0.3396811, -1.0809927, -0.37991962, -1.1527362, -1.5090048, -0.18964106, 1.1107123, 1.6132212, 1.3327636, -0.31738287, 0.34916937, 0.6285645, -0.56902754, 0.827009, 0.15908259, 1.9879185, 0.49313325, -1.1808577, -0.8796953, 0.6770098, 1.3508825, 2.503204, 1.8849332, 0.87111413, -0.3280629, 0.42111045, 0.16027984, 1.1346596, 0.7976934, -0.9468821, -0.402632, -0.6458711, 1.8798338, 1.3592622, 0.39981347, -0.2929238, 0.97195804, 1.1829379, -0.06311046, -1.5122284, -0.48700267, 1.7986847, -1.1857493, -0.84656274, -0.49061656, -1.3338642, 0.7412727, 0.72844756, 0.30810767, 1.4390867, 0.32432708, 0.24957629, 0.73366237, 0.47954756, -0.4486951, -0.18607605, -2.594147, 0.8713129, 0.056339905, 0.47492006, 0.11092164, -0.9644551, -0.8322165, 0.0013509644, 0.13538893, -0.5929051, -0.6359299, -1.2945236, -1.679307, 0.5887438, -0.2623017, 0.0007402646, 0.7357583, -0.3927832, -0.34431553, 0.4259892, 0.14710918, 1.2940052, -0.99209225, -0.3214787, -0.39595369, -1.5358313, -0.76371247, 0.2988687, -0.16595139, -0.1538255, -0.97999704, 1.1304028, 0.8767964, -0.0918861, 0.2510811, -0.5720276, -0.09713974, 0.27406743, -0.05449827, -0.49633884, 0.10971009, 0.8800067, -1.0751988, -0.079469554, -0.18026586, -0.10157087, 0.6889766, 0.40235895, -1.858659, 0.17360207, -1.6957222, 1.3880167, -0.3441025, 0.5527625, 0.87942344, -0.18793035, 0.044621937, -0.1771858, -0.11952124, -0.07106744, 0.37844405, 1.4528824, 0.050974406, -1.0550076, 0.565454, -0.85620177, -1.5329398, -1.1939871, 1.4083579, -0.4792367, -1.2098621, -0.5750794, 0.4385514, 0.565117, 0.3405648, 0.21465856, -0.8427777, -1.0433524, -0.39332417, -0.428558, -0.19003502, -1.0147831, -0.49572763, 0.9469902, 0.2199535, -0.5109442, -0.044649538, -0.674242, -1.1550095, 0.87106234, -0.06657284, 0.036042232, -1.0418942, 0.48841175, -0.1257848, 0.37970287, 1.1044924, -0.80132574, -0.07532903, 0.6677518, -0.2952098, 0.058267996, 0.17671911, 0.9594223, 0.04242614, -0.73132753, 0.6815419, 1.5062857, 0.07492152, 0.8145178, 0.6121369, -0.30212057, 0.09319844, 0.07916939, 0.051336907, 0.3395002, 0.09878553, -0.13518803, -0.9311466, -0.041323, 0.11696124, -0.162425, 0.44206113, -0.8417929, 0.52379537, -1.0704697, 0.0052735694, 0.9474363, -0.50093126, -0.91174436, 0.23121892, -0.5056753, 0.0020338125, -0.82201535, 1.1260942, -0.61297685, 1.7901138, -0.910664, -0.13949203, 0.51430464, 0.79437447, 2.2842147, 0.09813361, -0.39541855, 0.15483604, -1.5557511, -0.85749674, 2.1172216, 1.4075478, 0.117421515, -0.9487296, -0.06250458, 0.63354033, 1.5520427, 1.7814678, 0.70297635, 0.42865923, 0.76908463, 0.6886116, 1.252493, -0.8233927, 1.1279553, 1.8216499, -0.5070177, 0.41612807, 0.45853257, 1.1428431, -0.8943094, -0.23304594, -0.92692107, -1.4176346, 0.3250865, 0.38791224, -1.3082222, 0.9582614, 0.80839056, -0.014382186, -0.0648633, 0.590197, -0.22739212, -0.19908734, -0.41508526, -0.4219132, -0.23208272, -1.1033856, 0.59773344, -0.8409146, 0.67098, 0.35834643, -0.062833354, 0.18986575, -0.32504615, -2.0549948, 0.4205901, 1.2541723, -0.67019486, -0.6235092, 0.5549912, -1.7609104, -0.39140123, -0.77485687, 0.5605479, -2.4562454, 0.0656346, 0.14260346, -1.1059881, 0.5420674, -0.72899956, 0.38664517, -0.3904443, -0.5622339, -1.036615, -0.14631487, -0.548128, -0.2614016, -1.2335316, 0.3701622, 0.75371134, 0.25273627, 2.0235548, 1.4414715, -1.2681665, 1.2670947, 0.43124273, 0.9845306, -0.43509158, -0.26105544, 0.16989009, -1.3307577, 1.4332067, -0.95244867, 0.797594, -0.2632044, -0.71574426, -0.055661514, -0.024572993, -0.33470464, -0.24980222, 0.14067176, -1.6050316, -1.1630365, -0.37475142, -0.34069094, 0.24274886, 0.60053694, 0.5405225, 0.83232737, -0.07897558, -0.40557477, -1.3167193, 0.9473617, 1.3283739, -0.5950039, 1.7999264, -0.5867163, 1.8081133, 0.6603983, 1.0853214, -0.12409298, 0.6399563, 0.69924843, 0.023539735, -0.5493105, 0.64492327, 0.21590824, -0.9977062, 0.0508592, 1.1657869, -1.5170186, -0.9292655, -0.44696638, 1.5628539, -0.2784626, 0.66246426, 1.2984992, -0.27288187, 1.8903002, -0.10438737, -0.6138876, -0.7496209, -1.2621019, 0.06627241, -0.7607325, 0.24579382, -0.28331152, -0.8071486, 0.49446458, 0.71844727, 0.77562094, 0.43425047, 0.9733672, 1.0968634, -1.0360409, -0.55691326, 0.13002557, -1.3270819, 0.47486648, -1.2120956, -0.8035998, -0.5496359, -1.0260333, -0.8631441, 0.0066790455, 0.027112603, -0.9834715, -0.90148294, -0.10674781, -0.20974852, 0.36241758, -0.12650184, -0.586267, -0.21358989, 0.6609101, 2.1097634, -0.45013595, 1.0255575, 0.83461255, -0.78246766, -0.5840443, 0.12974067, -1.2357734, -1.2660884, 0.67978776, 0.92844564, -0.35229456, -1.092272, 0.18663438, 0.038058024, 1.0117729, -0.711261, -1.7525791, 1.7427368, -0.1361339, 0.8336297, 0.35309467, 1.0867146, -0.9079908, 0.8523454, 1.0573364, 0.95264465, -2.1003246, 0.15918, 1.3014699, -1.192491, -0.12204889, -0.9685801, -1.0620557, 0.8246872, 0.11306189, 0.47374973, 0.62808955, 1.6115806, -0.38350567, 0.5583178, 0.18624908, 0.69173306, -1.9754498, -0.88289183]]\n"
          ]
        }
      ]
    },
    {
      "cell_type": "code",
      "source": [
        "cosine_scores = util.cos_sim(embeddings2, embeddings2)\n",
        "cosine_scores"
      ],
      "metadata": {
        "colab": {
          "base_uri": "https://localhost:8080/"
        },
        "id": "MLL9K4pa0OGZ",
        "outputId": "cb8c350c-3ff1-48f7-f883-763b008d06ed"
      },
      "execution_count": null,
      "outputs": [
        {
          "output_type": "execute_result",
          "data": {
            "text/plain": [
              "tensor([[1.0000, 0.6621, 0.7511, 0.6626],\n",
              "        [0.6621, 1.0000, 0.5402, 0.6841],\n",
              "        [0.7511, 0.5402, 1.0000, 0.5603],\n",
              "        [0.6626, 0.6841, 0.5603, 1.0000]])"
            ]
          },
          "metadata": {},
          "execution_count": 48
        }
      ]
    },
    {
      "cell_type": "code",
      "source": [
        "cosine_scores = util.cos_sim(vectors, vectors)\n",
        "cosine_scores"
      ],
      "metadata": {
        "id": "NZczA-GdOYo5"
      },
      "execution_count": null,
      "outputs": []
    },
    {
      "cell_type": "code",
      "source": [
        "pairs = []\n",
        "for i in range(len(cosine_scores) - 1):\n",
        "  for j in range(i+1, len(cosine_scores)):\n",
        "    pairs.append({'index': [i, j], 'score': cosine_scores[i][j]})\n",
        "\n",
        "pairs"
      ],
      "metadata": {
        "colab": {
          "base_uri": "https://localhost:8080/"
        },
        "id": "CmQPxZ3W4hjo",
        "outputId": "f93e12b3-2f06-42ad-9f34-a67d6c1eb268"
      },
      "execution_count": null,
      "outputs": [
        {
          "output_type": "execute_result",
          "data": {
            "text/plain": [
              "[{'index': [0, 1], 'score': tensor(0.6621)},\n",
              " {'index': [0, 2], 'score': tensor(0.7511)},\n",
              " {'index': [0, 3], 'score': tensor(0.6626)},\n",
              " {'index': [1, 2], 'score': tensor(0.5402)},\n",
              " {'index': [1, 3], 'score': tensor(0.6841)},\n",
              " {'index': [2, 3], 'score': tensor(0.5603)}]"
            ]
          },
          "metadata": {},
          "execution_count": 49
        }
      ]
    },
    {
      "cell_type": "code",
      "source": [
        "pairs = sorted(pairs, key=lambda x: x['score'], reverse=True)"
      ],
      "metadata": {
        "id": "1XITAzab5cAp"
      },
      "execution_count": null,
      "outputs": []
    },
    {
      "cell_type": "code",
      "source": [
        "for pair in pairs[:2]:\n",
        "  i, j = pair['index']\n",
        "  print(\"{} ----> {}\".format(sentences4[i], sentences4[j]))"
      ],
      "metadata": {
        "colab": {
          "base_uri": "https://localhost:8080/"
        },
        "id": "GFgbo2NJ5cKx",
        "outputId": "63d062a7-7c85-4559-ddf0-075844d9acb1"
      },
      "execution_count": null,
      "outputs": [
        {
          "output_type": "stream",
          "name": "stdout",
          "text": [
            "El sol brilla intensamente en el cielo despejado. ----> La luna ilumina la noche estrellada.\n",
            "Bajo la luz del astro rey, los niños juegan en el parque. ----> A la luz de la luna, los lobos aúllan en la montaña.\n"
          ]
        }
      ]
    }
  ]
}