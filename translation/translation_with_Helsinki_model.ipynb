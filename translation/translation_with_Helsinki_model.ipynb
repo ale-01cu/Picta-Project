{
  "nbformat": 4,
  "nbformat_minor": 0,
  "metadata": {
    "colab": {
      "provenance": []
    },
    "kernelspec": {
      "name": "python3",
      "display_name": "Python 3"
    },
    "language_info": {
      "name": "python"
    }
  },
  "cells": [
    {
      "cell_type": "code",
      "execution_count": 1,
      "metadata": {
        "id": "R0_vaV_gL2dI"
      },
      "outputs": [],
      "source": [
        "import pandas as pd\n",
        "from pandas import DataFrame\n",
        "from transformers import pipeline"
      ]
    },
    {
      "cell_type": "code",
      "source": [
        "translator = pipeline(\"translation\", model=\"Helsinki-NLP/opus-mt-tc-big-en-es\")"
      ],
      "metadata": {
        "id": "4EP4MkQo3f1C"
      },
      "execution_count": null,
      "outputs": []
    },
    {
      "cell_type": "code",
      "source": [
        "def translate(text: str) -> str:\n",
        "  return translator(text)[0]['translation_text']\n",
        "\n",
        "def translate_df_to_spanish(df: DataFrame, columns: list[str]) -> DataFrame:\n",
        "  df_copy = df.copy()\n",
        "  df_copy[columns] = df_copy[columns].applymap(\n",
        "    lambda value: translate(value)\n",
        "  )\n",
        "  return df_copy\n",
        "\n",
        "\n",
        "def translate_df_to_spanish_with_counter(df: DataFrame, columns: list[str]) -> DataFrame:\n",
        "  df_copy = df.copy()\n",
        "  for i, row in df_copy.iterrows():\n",
        "    print(f\"Procesando la fila {i+1}\")\n",
        "    for column in columns:\n",
        "      text_translated = translate(str(row[column]))\n",
        "      df_copy.at[i, column] = text_translated\n",
        "  return df_copy"
      ],
      "metadata": {
        "id": "EcOGtZW_7Baw"
      },
      "execution_count": null,
      "outputs": []
    },
    {
      "cell_type": "code",
      "source": [
        "translate('hello, good morning')"
      ],
      "metadata": {
        "id": "sxvOJYGWyfi9"
      },
      "execution_count": null,
      "outputs": []
    }
  ]
}