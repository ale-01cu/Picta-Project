{
  "nbformat": 4,
  "nbformat_minor": 0,
  "metadata": {
    "colab": {
      "provenance": []
    },
    "kernelspec": {
      "name": "python3",
      "display_name": "Python 3"
    },
    "language_info": {
      "name": "python"
    }
  },
  "cells": [
    {
      "cell_type": "markdown",
      "source": [
        "Libreria para extraer el audio de un video"
      ],
      "metadata": {
        "id": "G-eprLKiwUU6"
      }
    },
    {
      "cell_type": "code",
      "source": [
        "pip install moviepy pytube"
      ],
      "metadata": {
        "id": "vho5pxGz5CXy"
      },
      "execution_count": null,
      "outputs": []
    },
    {
      "cell_type": "markdown",
      "source": [
        "Libreria para descargar videos de Youtube"
      ],
      "metadata": {
        "id": "rpaF6HgDwHr1"
      }
    },
    {
      "cell_type": "markdown",
      "source": [
        "Descargando el Video"
      ],
      "metadata": {
        "id": "yMzEJawMwc8a"
      }
    },
    {
      "cell_type": "code",
      "source": [
        "from pytube import YouTube\n",
        "\n",
        "# Coloca aquí el enlace de YouTube\n",
        "yt = YouTube('https://www.youtube.com/watch?v=Uj7Zo0U1FQQ')\n",
        "\n",
        "# Selecciona el stream con solo audio\n",
        "video = yt.streams.filter().first()\n",
        "\n",
        "# Descarga el archivo de audio\n",
        "url_video = video.download(filename='despacito.mp4')"
      ],
      "metadata": {
        "id": "CPu7-7CT5REc"
      },
      "execution_count": null,
      "outputs": []
    },
    {
      "cell_type": "markdown",
      "source": [
        "Extrayendo el audio"
      ],
      "metadata": {
        "id": "EeVBKej4wfGl"
      }
    },
    {
      "cell_type": "code",
      "source": [
        "from moviepy.editor import VideoFileClip\n",
        "\n",
        "video = VideoFileClip(url_video)\n",
        "audio = video.audio\n",
        "audio.write_audiofile(\"audio_extraido.wav\")"
      ],
      "metadata": {
        "colab": {
          "base_uri": "https://localhost:8080/"
        },
        "id": "I6INMuah5Wgg",
        "outputId": "d3aaf8b3-b8c8-4771-b77f-d3f515ed7860"
      },
      "execution_count": null,
      "outputs": [
        {
          "output_type": "stream",
          "name": "stdout",
          "text": [
            "MoviePy - Writing audio in audio_extraido.wav\n"
          ]
        },
        {
          "output_type": "stream",
          "name": "stderr",
          "text": []
        },
        {
          "output_type": "stream",
          "name": "stdout",
          "text": [
            "MoviePy - Done.\n"
          ]
        }
      ]
    },
    {
      "cell_type": "markdown",
      "source": [
        "Configurando assemblyai, libreria que permite comunicarnos con los modelos de Assembly Ai"
      ],
      "metadata": {
        "id": "S00vmYiJwkB2"
      }
    },
    {
      "cell_type": "code",
      "execution_count": null,
      "metadata": {
        "id": "WQv1ehtw4M3G"
      },
      "outputs": [],
      "source": [
        "# `pip3 install assemblyai` (macOS)\n",
        "# `pip install assemblyai` (Windows)\n",
        "\n",
        "import assemblyai as aai\n",
        "\n",
        "api_key = \"87c399be6b6e4a7a976d5079a536e934\"\n",
        "upload_endpoint = 'https://api.assemblyai.com/v2/upload'\n",
        "transcript_endpoint = 'https://api.assemblyai.com/v2/transcript'\n",
        "filename = \"audio_extraido.wav\"\n",
        "\n",
        "headers_auth_only = {'authorization': api_key}\n",
        "\n",
        "headers = {\n",
        "    \"authorization\": api_key,\n",
        "    \"content-type\": \"application/json\"\n",
        "}\n",
        "\n",
        "CHUNK_SIZE = 5_242_880  # 5MB"
      ]
    },
    {
      "cell_type": "markdown",
      "source": [
        "Realizando la transcripción"
      ],
      "metadata": {
        "id": "_E1aILQow05x"
      }
    },
    {
      "cell_type": "code",
      "source": [
        "import assemblyai as aai\n",
        "\n",
        "aai.settings.api_key = api_key\n",
        "\n",
        "transcriber = aai.Transcriber()\n",
        "\n",
        "audio_url = (\n",
        "    filename\n",
        ")\n",
        "\n",
        "config = aai.TranscriptionConfig(language_code=\"es\")\n",
        "\n",
        "transcript = transcriber.transcribe(audio_url, config)\n",
        "\n",
        "print(transcript.text)\n"
      ],
      "metadata": {
        "colab": {
          "base_uri": "https://localhost:8080/"
        },
        "id": "VH2zR3dk-Lzp",
        "outputId": "535515d6-9933-4a2d-9ccb-91a91f09a634"
      },
      "execution_count": null,
      "outputs": [
        {
          "output_type": "stream",
          "name": "stdout",
          "text": [
            "Hola, buenas tardes. ¿Cómo estás, Focus? Muy bien, ¿y tú qué tal? Venga, explícame a mí un poquito cómo funciona eso. A ver, pues simplemente mantén Enter para tirar los dados. Sí, eso sí. Cuatro no me gusta, Una vez y ni me acuerdo. Ah, ahora lo tiro yo. Correcto. Aquí. A ver… Qué cabrón, tío. Qué cabrón de mierda, tío. Vale, tú y yo. Igual es Focus. Imagina. Me puede tocar último, Uy… A ver, ¿a quién le he tocado último? ¿A Focus o a mí? Creo que… ¡Vamos! A mí me he tocado último. ¿Afecta el orden en algo? ¿Voy con ventaja? Sí. No, no lo es. A ver… Puedes comprar antes que nosotros. Un poco de ventaja sí que hay. Buena suerte. Vale. Y la tira a muerte. ¡Bum! Toma y… Oye, respeta. 11 de nuevo. Pues no te creo en nada. 11 creo es cárcel. ¿Puede ser? ¿O es una más? Una más. Ah, sí, es una más. Una más. Uf. Ya puede comprar el Perrito. Para comprar, supongo que Enter ¿no? Mira, ahí te lo pone. ¿Comprar o subastar? La subastas, la repartes de todo el mundo. Ah, ¿y para qué quiero subastarla? Por si no te interesara comprarla, cabeza de escroto. Vale, vale. Venga, lo compro. Muy bien, muy arriesgado, enhorabuena. Ya va el gato de mierda. Vale, pues le tienes que pagar alimentados. Pero ya verás lo que te va a pagar, No te quedes imantado que vas a comprar una casa. Al menos 10 pavos. 10 millones ¿no? 10 pavos en porros son porros ¿no? ¿Cómo sabes, Auron? Bueno, a ver… Fui joven. Fui joven fue. Fui joven, coño. Tengo que ayer… Pues a la cárcel. Ah, no, nueve ¿verdad? No, nueve, nueve. Empieza mi imperio. Vale, 120 millones comprar. Necesitas todas del mismo color para empezar a poner casas u hoteles. Ya empieza Focus comprando cosas que son mías, tío. Sí. Eh… Sí, voy a comprar, la verdad. ¿100 millones? No, Focus, estás tirando la casa por la ventana. Mira cómo maneja la panoja. Los millonarios, en fin. A ver, a ver. Ojo y madre. ¡Eso borracho que se le llama! Lo hace de real. Vale, caes en parking. Si hubiera dinero que hemos pagado de deudas y tal, te lo llevarías. Pero como acabamos de empezar, no hay nada. ¡Mierda! Qué mierda. A llorar. Vale, vale. Y ahora yo le doy a… Finalizar tú, ¿no? Eso es. Ojo, 5, 6, 7. Aquí metes un par de casitas y ya empieza a doler, Dale, dale, dale. Está calentando. Va a salir fuego, Sí, sí, sí. Vaya mierda para sacar eso, tío. Vaya mierda, Pero aún así creo que compro, Y encima te quito una de las tuyas, imantado. Vale, pues yo te quito otra luego, ¿no, tonto polla? Ahora yo que tengo que negociar contigo, Auron. No, no, porque hay otra que no es de nadie, cabezabuque. Yo qué sé, no entiendo mucho. La compra Focus, de hecho, ¡No jodas! Tenemos… ¡No! ¡Me cago en la puta madre! O sea, va a repartir. Esos son putadas. Esos son problemas. Sí, eso. ¿Quién será el aportador? Estos son problemas, porque no vamos a llegar a un acuerdo entre los tres. ¿Quién sabe? Hay que ser buena onda, ¿no? Bueno, yo en este juego estoy acostumbrado a mucha hostilidad, A ver, a ver. Ojo estación, esto es muy buenimantado. Porque puedes coger un tren e irte a tomar por culo. Correcto. Alcalina, además. Hostia, el gato este está maldito, 25 millones. Opa, opa, opa. Cuidadito. Que compro. Que compro. Me da mal rollo esta partida porque de negociaciones va a estar duro esto. Nadie va a querer vender una mierda. ¡Ojo doble, No, tío, de verdad. Hostia, está la polla, tío. Pero si he pagado todo lo que me han dicho, tío. Visitas a Auron, creo. ¡No me jodas, Auron! ¿Me vienes a traer tabaco? Sí. Loco en el culo, Auron. Tráeme un Malboro, tío. Tráeme un Malboro. ¡Ojo! Uuuh... Esa no la tiene nadie. Ya serían dos. No, tío, pero ese color es mío, ¿no? No, ya no. Ahora tengo dos. ¿Quién tiene la otra? Vale, tenemos que intentar que quede por el precio mayor para joder al otro. Claro, este juego va así, tío. Toma. Vale. Mira, yo, uno más. ¡No! ¡No! ¡No, tío, no! ¡Toma! ¡No! Y se retira. No, a ver. A ver, a ver. A ver, cabeza fría. Vas a pagar alimentado 21 más de lo que vale. Tampoco está mal. Vale. Es que la quiero. Aquí me quedo. Parad ya. Ojo, hay movida, Es que yo también la quiero, es el problema. Yo me retiro. No, y ahora irán subiendo de uno en uno, compadre. Tienen que comenzar subiendo de uno en uno. Ya van 50.000... Hostias. Se ha calentado el gato. No, no, no, no, puta. Pensaba que ibas a pagar por ella. Bueno, da igual. Recuérdalo, Porque luego te va a vender más cara. Que lo sepas, soy el valor. Un mozo, tío, un mozo. Luego te va a vender más cara. Ahora va a ser 350. Y me han dado a pagar la puta fianza, tío. La ha pagado, por ti y por mí. No, por mí no. Yo voy a tener que pagar. Por mí no. Te iba a decir, Auron. ¿Queréis negociar por la roja? A ver, focus. No negocio con estafadores. Ya, pero ¿qué te doy a cambio de la roja? Fuck me. Dinero. Pero si tengo 480. La roja. ¿Cuánto costaba la que tengo yo, la roja? Pues 200 y poco creo que vale. Claro, es que me quedo sin Capi. Yo esperaría un poco más. Eso sí, Axozer, tengo dos naranjas. Mmm… ¡Tengo dos rojas! ¿A qué me interesa? Dos naranjas. Soy increíble. Pero tiene pura mierda. Soy Donald Trump de este juego. Ojo con los doblecitos de la mierda. ¡Uy, cárcel! ¡Uy! ¡No me jodas! ¿Quién tiene las otras? ¡Nadie! Yo tengo una. La otra María tiene Focus. Son tres, ¿no? No, son dos, son dos. Yo tengo las otras. No sé si comprar… Me la compras. Creo que la voy a comprar y luego te la vendo un pelín más cara, imantado. Pero no seré malo, un pelín. No, no, yo te digo una cosa. A mí me interesa. Si quieres negociar por la roja, no deberías de comprar esa. ¡Hola! ¡Vaya amenaza! Esa amenaza es de las peores que me han hecho en toda mi vida. No, no, no, pero… ¿Cómo vas a poderla comprar? Yo es que no puedo con las amenazas, Focu. Además, ¿me va a amenazar un tipo que tiene 72 en la cuenta? A ver, vamos a ver el panorama. Yo tengo que a ti te interese dos rojas que a ti te… Bueno, no, pero claro, si yo te vendo a ti dos rojas, tú a mí qué pollas me vas a dar. La amarilla. ¿Para qué quiero la amarilla, cabrón? Pues yo te doy la que es roja por la amarilla. No, es que yo quiero la naranja de Axozer. Y a cambio, a Axozer le puedo dar cositas. Nada, no me interesa. A ver, voy a negociar con el gato. A ver qué opinas. Me lo puedes rechazar si quieres. No tengo ningún problema. ¿Por el naranja? Yo te doy tres rojas. Vale. Cuidadito. No es moco de pavo. Y tú me das la naranja y… A ver, algo de dinero. ¿Cuánto me darías? Porque mira la diferencia, Axozer, seamos honestos. ¿Unos 300? Venga, va. 300. Venga. Es para que sea justo también. Amigos, prefiero edificar en las naranjas. Las rojas son muy caras. De verdad, es horrible. Háganme caso. Mira. Mira, mejor. ¿Qué te parece? ¿250? Te bajo el precio. Y me das la de la puta luz de mierda, tío. No, esta no era. ¿Era? Esta. Pero, Auron, ¿qué coño haces dándole tres colores? ¡Hazme caso! Que yo sé de la vida, tío. Que yo tengo un imperio, coño. Auron, si negocias esto, no te vendo la rosa en tu puta vida. Mira, yo puedo vivir sin ti y sin la rosa, zorra. ¡Que hay por culo! ¡Que hay por culo! ¡Qué regalada ha hecho el niño! ¡Qué regalada, vamos! Te parece bien. Si te parece mal, eres tonto. Buen trato. Me parece bien. A mí me pareció justo. A mí no me pareció justo. A mí sí. Joder, te he imantado. A mí no. Sé que puede parecer un regalo para Axozer, pero a Axozer, para edificar en las rojas, le va a costar. Es difícil. Háganme caso, que yo sé de la vida. Mira. Mira esto, Focus. Bien. ¡Hombre! Madre mía. Vale. ¡Hombre! Bueno, terrible. Vale. A ver, con una casa son 80, Pero aquí me la juego y meto otra. Es jugársela, pero me la juro. Madre mía. Estás tieso ahora mismo, Lo sé. Es arriesgado. Así es el mundo de las finanzas. ¿Quieres la rosa? Estoy mantado. A ver, eres pobre. Ahora mismo… No, pero escúchame, ahora mismo solo me voy a juntar con gente con cash. I'm sorry. Perfecto, perfecto. Para mí eres working class. ¿Por qué nadie tiene un puto duro en esta partida? ¿Qué mierda es esta? Es que nadie tiene un puto duro, tío. Son muy pobres, Yo sé que como caigáis en mi estación, vais a morir. Somos demasiado pobres. No, no, no. Y espérate, que ahora voy a tirar. Ojalá vaya a la cárcel, por favor. Dios, llévame a prisión. Seré feliz, tío, rodeado de asesinos, por favor. ¡Ojo, Focus! ¡Focus pagador! Sí, sí, sí. vale no es mucho no pues sí que es 200 paga cuervo paga paga es negociar o hipotecar tú eliges También te digo, la gente no tiene mucho dinero, Focus. Pero de verdad, el dinero ha desaparecido, no tiene sentido. ¿En dónde? ¿Qué partida más? Pobre, tío, no tenemos dinero. Bueno, yo ahora voy a tener 400. ¿Quieres que yo te pague encima o qué? ¡Claro! A ver, yo tengo la otra rosa, Auron, te la puedo dejar a un precio bueno. Tengo una oferta para ti, Auron. Yo creo que… Ahí está. Más o menos el mismo valor. No, está bien, está de puta madre. O sea, es para sacar la pasta, no nada más. La verdad es que es una buena oferta. Sin duda. O sea… ¿Cómo? ¿Cómo es posible? A ver, entonces… Mira, a ver, Focus. Yo estoy en un momento de mi vida en el que necesito cash. Ojito, Focus, con cuatro euros. Cuatro millones. Está jodido. Sí. Hostia, ha caído ¿dónde? Y apagar. ¡Uy! No. Madre mía, ojalá te cobren aquí, Focus. ¡Por favor! ¡Uy! Bien, te dan 50 pavos. ¿Quieres una rosa? No, no quiero nada. Quiero tu dinero. No. A ver, podemos negociar. No, es que yo no negocio. Cash, cash. Yo no negocio. Cash, cash. ¿Quién quiere la rosa? ¿Quieres la rosa? Si nadie tiene dinero... Mira cómo está Focus. Te doy 50 euros por la rosa. Yo, imantado, only cash. 650 el cabrón tiene. Bueno, cositas. Nadie confiaba en las naranjas. OK. Suerte para los que pasen por ahí. No, hija, ya, no. Es un hotel, un hotel. Opa, ya, eso es imposible. ¿Dónde hay que ir tanto dinero? ¿Dónde hay que ir tanto dinero? Lo voy a dejar así. Tampoco hay que abusar. Atrás. ¡Uy! ¡Uy! ¡Uy, Focus! ¿Dónde vas? Focus, bancarrota. Buah, chaval. La de cuatro casas. De cuatro casas. ¡Oh! ¡750! Focus bancarrota, tú. ¡Dios! ¡Dios! A ver, veamos. Prueba a hipotecar todo y aún así no sé si llegas, No llegas, creo, aún con eso. Pruébalo. No le dan 140, 130… No le dan, Igual sí, pruébalo, pruébalo. Qué locura, Bancarrota, tú. No me da, Tienes que irte a la casa e hipotecarlo. ¿Me vas a ir a comprar una casa? A ver, no la arruines. ¿Esto es gracioso, Auron, para ti? Te pregunto, A ver. ¿Me vas a arruinar a un amigo? A mí me sabe mal que un amigo mío se vaya a la bancarrota por mi culpa. No me siento bien. Os lo dije, el poder de las naranjas está infravalorado. No, Auron, hazlo tele, si no, me salgo de la partida. Bueno, pues salte. Vamos, Focus, haz un dos. No, no quiero tirar. ¿Un 2 o un 3? No, pásate claro. A la casa usted. A la casa, Soy el único que hace hoteles. El único. Anoten. No puedo creer que haya otra opción. ¿Te imaginas? ¡Dios! ¡Otra partida de mierda! ¡Qué sentido! ¡Otra vez! ¡Qué partida de mierda, tío! Te meto la pinga en la boca, no quiero tu dinero. Quita, quita, no quiero nada. No, no quiero. Tú lo que quieres es el cash ¿no? Que no quiero, que eres un payaso. Que somos panas. Vaya partida de hijos de puta. Yo os ayudaría, pero… ¿para qué? Abro a Ubisoft, coño. Negocia, te doy los dos euros, Focus. ¿Qué quieres que negocie? Bueno, abre. Te regalo. Tú me das… Te regalo. Tú me das tres ¿no? ¿Cómo era? Tú me das uno y yo te doy tres, ¿no? Sí. Ah, vale. Dame uno y tú pídeme tres a mí. Y que te dé la carta. Sí, la carta del desahucio le voy a dar. Eso. Ahí. Y ya está. Vale, ahí está. Espero que no olvides esto, En fin. A cero euros. A cero euros. A cero euros con todo embargado. Y lo peor es que los tres dólares que le he dado lo voy a reclamar. Imantado, sal ya, tío. Sal ya. No, no, lo siento, nene. No es mi momento. ¡Uy! Pero es la última ya ¿no? No, me falta una más. Qué cabrón. Cuando salga, muere, tío. Es que soy inmortal. Auron, por favor. Auron, por favor. ¡Auron! ¿Pero tú crees que teniendo clemencia algún empresario ha llegado a algo? No. ¡Nooo! ¡Mil euros! Hostia, Auron, te has pasado, hermano. No eres Brouton, bro. Eres una mierda. ¡Banca rota! Manca rota, literalmente. Tecla en. No, no, no. Puedo vender, creo. ¿Qué vas a vender para tener mil? Has perdido, no pasa nada, hombre. Otro día ganarás. Vale, déjalo así. Te doy lo que falta. Negocia conmigo. Gracias. Pídeme 300 y tú ofréceme uno. Para que veas el gran corazón que tengo y el odio que me falta. ¿Y para qué quieres la rosa? Por si caigo en macarrón. Píllala, píllala, te la doy. Píllala, píllala. Está todo hipotecado. Vale, ¿y cómo es? Ponle tu euro. Tienes que poner un euro. Pon el euro, eso es. Humilde, ya ves. Buen negociador hay, Aceptar. Humildad. Y ahora págame. Bien. ¡Ay! ¡Uy, qué rico! ¡Lo ha reventado! ¡Dios! ¡Se desarrolló! ¡Jajaja! ¡Jajaja! ¡Ahora no sé qué se ríe! puto payaso! ¿Quién se ríe ahora? ¿Quién era el que no confiaba en mis naranjas? Y todo el chat me decía… No, no hagas eso. Te falta odio. Estás loco. Eres un enfermo. Cositas. Te falta odio. Encima ese silencio, seguro que se está partiendo la polla. No, estaba comentando unas cosas de álgebra con mi endchat. Estás partiendo el culo. Mentira, yo nunca me reiría de una víbora. ¡Dioooos! 2.000 colores. Ya podemos hacer el hierario, si es que puede poner… No tiene más sitio, si no… Sí. Abro, te vendo la rosa. Te vendo la rosa. Pero si te la acabo de dar. O sea, me vendes la rosa y te la acabo de regalar. Nada me duele, tío. No le quitan dinero a nadie. Te vendo la rosa y se la acabo de regalar. Madre mía, Focus, cómo está. ¿Dónde? ¿Caes? ¡Hostias! A cero, tío. ¡A cero, tío! ¿Qué es esto? Tres euros, cero, cero, menos 2475. Es una barbaridad. Vale, chavales, este tiro es de oro. Mirad esto. Esto es cine. 11 es cárcel, ¿no? Da igual dónde caigas. Es que no vas a pagar. Pero que no hace… No confiabais en mis naranjas y son clave en este juego. De verdad, Las naranjas o esas tres azules que veis ahí, las celestes, son la clave. Pero no se lo digáis a nadie. A ver… ¡Toma, pagadme mi cumpleaños! Imantado no tiene para pagarme el cumpleaños. ¡Imantado! No tienes dinero para venir a mi fiesta de cumpleaños, tío. Sí tengo, porque vamos a negociar, nene. Recuerda lo que hemos hablado. Vamos a negociar. A ver, Auron. Vamos a ver. La rosa, madre mía, si edificas... Mira, si pones un hotel, son 900, cabrón. Menudo ofertón te voy a hacer. Porque ni más ni menos te ofrezco esta carta a cambio de que tú a mí me des 300. ¿Y la otra carta qué? ¿La otra carta qué? ¿Dónde estás, 300? La otra rosita, tú tienes dos rositas. ¡Ah, yo tengo dos rositas! ¡Uy, qué rico, qué rico, qué rico, mazota! Espérate, espérate. Tampoco le pongas mucho más, porque si no, te vas a asustar. No, a ver, que no, por 300... No, no, espérate, espérate. Mira, coño, te vale. Te la hará un poco, ¿no? Que te venga, va. Dale, va. ¡Qué regalo, tú! ¡A trabajar! ¡Ja, ja, ja! Págame mi puto dinero de cumpleaños. Págame mi puta fiesta. Por menos dinero, Auron, no 500. Es que con 500 estás pasado, la verdad. Vale, venga, me he pasado. Mira, te pido disculpas, de verdad. Vale, yo acepto disculpas siempre. Me he levantado pícaro. Te voy a pedir 400, que yo creo que ya son como 100 más. Que son 100 más para un beastman como tú. Y para un tío elegante y que se cuida. Además, que estás muy guapo últimamente, Auron. Tengo que decírtelo. ¿Tú crees? ¡Joder! Créeme. Yo hablo con mi madre y digo que estoy jugando con Auron. Es un niño tan guapo. ¿Lo ves? Si es que a mí, con amabilidad, me ganas. No me puedo llegar a creer. Todo hipotecado. Es que eres un mierdas, tío. Mira, no tienes ni para deshipotecar. Me lo hubiera dado. Me voy a mantener en la hipoteca Mantener la hipoteca me sale caro, tú me vas a arruinar. ¡Madre mía! ¡Madre mía! ¡Madre mía! ¡Madre mía! ¡Madre mía! ¡Madre mía! ¡Madre mía! ¡Madre mía! ¡Madre mía! ¡Madre mía! ¡Madre mía! ¡Madre mía! ¡Madre mía! ¡Madre mía! ¡Madre mía! ¡Madre mía! Yo sí, ¿y tú? Mira que voy a pagar a alguien. Toma, Focus. Seis dólares, tío. Disfruta, tío, disfruta. A ver, a ver, a ver. ¡No! ¡Ah, rueda! ¡Se acabó, Inmantado! ¡GG! Vamos a negociar, Auron. ¡No, negocia qué no! Mauro, ¿tú sabes mi madre cómo te quiere? Y que dice que sí sea guapa. Sí, a mí tu madre también me cae bien, pero su hijo es un imbécil y me tiene que pagar. Claro, si tu madre es una santa, pero su hijo tiene que pagar, podemos llegar a un acuerdo a cambio de que tu madre me envíe tuppers de comida. ¿Tu madre sabe hacer migas? Bueno, le sale que te cagas, cabrón. ¿Seguro? A ver. ¡Buah! Escúchame, voy a reclamar el tupper de migas, No lo digo en broma, Reclama, reclama. Mira, eran mil, ¿no? Pero escúchame, que tengo 400, que no te llega. No va a llegar. Claro. Imantado, a ver, en esta vida, creo que hay que saber cuándo decir stop. Coño, claro que sí me da. Me da, me da. Te falta un montón. Pero que no te va a dar. Que vendo las estaciones y me da. Pero que te va... Pero que igualmente te quedas sin nada. Vale, vale, te lo doy. Gracias. Gracias. jajajajajajajajajajajajajajajajajajajajajajajajajajajajajajajajajajajajajajajajajajajajajajajajajajajajajajajajajajajajajajajajajajajajajajajajajajajajajajajajajajajajajajajajajajajajajajajajajajajajajajajajajajajajajajajajajajajajajajajajajajajajajajajajajajajajajajajajajajajajajajajajajajajajajajajajajajajajajajajajajajajajajajajajajajajajajajajajajajajajajajajajajajajajajajajajajajajajajajajajajajajajajajajajajajajajajajajajajajajajajajajaj Hace pala. Ya está. Al puente imantado. Hijo de puta. Hostia, se tiene que dar Focus. Y así le jodan al puto Auron. Hubiera peleado Focus. Claro. Sí, sí. Uy. A ver, suerte. A ver, suerte. Por favor, suerte. Haz suerte. ¡No! ¡Eso te abro! ¿Eso es verde qué? ¡Hostia! ¡Qué cabrón! Ni una vuelta, tío. Ni una vuelta. Una tirada. Ni una vuelta. Una tirada. ¡Qué suerte de mierda, macho! Una tirada. Joder. Banca rota, Focus. Las naranjas, amigos. Las naranjas. Las naranjas y las celestes. Con eso controlas el mundo. Las amarillas, las azules y las verdes son muy caras a edificar. Es muy difícil. ¡Ojo y me paga! ¡Está vivo! Sí, sí, sí. Qué mala suerte, macho. Qué mala suerte. No pasa nada, ahora morirás. ¡Muere con dignidad! ¡Ojo! ¡Cuidado! ¡Cuidado! ¡Cuidado! ¡Cuidado! ¡Cuidado! ¡Uy, qué reíble! La lía, la lía, la lía. ¡Qué suerte! A ver, a ver, a ver, eh… Espérate, que aún me la lía. Bueno, Focus, acabemos ya con esto. Acabemos con esto. En planta y 400 casas. ¡Dios! Nada, nada, no tiene más ganas de hacer nada. Nah, pero esto no es gracioso. Esto no es gracioso. Esto no es un juego de hacer gracia. Veamos… 450 pepins. Verde. Ah, hipotecaron a verde. Oye, lo vamos a llamar de Focus la cucaracha. Está aguantando, O sea, no muere. Tienes que tirar tres veces, ¿sabes? Ya. Gracias. Aburrón, dime. Me ha enviado un guase mi madre. ¿Qué dice? Menudo soplapolla, ya me cae mal. Eso ha dicho. Me parece a mí que ya está, Bien. Dame… A ver, a ver… 625. No puede llegar, ¿Qué coño va a llegar? ¡Basta! Bye, bye, Focus. Bye, bye. A ver quién ha ganado, que lo vea. ¡Uy! O salá. Oye amigos, ha sido un placer. Un beso para cada uno. Un beso.\n"
          ]
        }
      ]
    }
  ]
}