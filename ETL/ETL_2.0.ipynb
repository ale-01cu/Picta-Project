{
  "cells": [
    {
      "cell_type": "code",
      "execution_count": null,
      "metadata": {
        "id": "R0_vaV_gL2dI"
      },
      "outputs": [],
      "source": [
        "import pandas as pd\n",
        "from pandas import DataFrame"
      ]
    },
    {
      "cell_type": "markdown",
      "metadata": {
        "id": "s7Rrrm53LtZ0"
      },
      "source": [
        "Limpiar el texto con spacy"
      ]
    },
    {
      "cell_type": "code",
      "execution_count": null,
      "metadata": {
        "colab": {
          "base_uri": "https://localhost:8080/"
        },
        "id": "mxrvO9n1xAGC",
        "outputId": "74b43eb7-77da-4a9e-ec61-0060e63f0015"
      },
      "outputs": [
        {
          "output_type": "execute_result",
          "data": {
            "text/plain": [
              "25454"
            ]
          },
          "metadata": {},
          "execution_count": 9
        }
      ],
      "source": [
        "df = pd.read_csv('/content/picta_publicaciones_crudas.csv')\n",
        "df.shape[0]\n"
      ]
    },
    {
      "cell_type": "code",
      "source": [
        "df = pd.read_csv('/content/picta_publicaciones_procesadas_sin_nulas.csv')\n",
        "df.shape\n"
      ],
      "metadata": {
        "colab": {
          "base_uri": "https://localhost:8080/"
        },
        "id": "kvUbAQfB-7Hs",
        "outputId": "309a483a-02b1-4dac-b9ac-aeeb62968fb5"
      },
      "execution_count": null,
      "outputs": [
        {
          "output_type": "execute_result",
          "data": {
            "text/plain": [
              "(22882, 4)"
            ]
          },
          "metadata": {},
          "execution_count": 13
        }
      ]
    },
    {
      "cell_type": "code",
      "execution_count": null,
      "metadata": {
        "id": "IVuowqjqMnFw"
      },
      "outputs": [],
      "source": [
        "df[df.isnull().any(axis=1)]\n",
        "print(df.loc[df['id'] == 6071])\n",
        "print(df.loc[df['id'] == 8719])\n",
        "print(df.loc[df['id'] == 5707])\n",
        "print(df.loc[df['id'] == 30104])\n",
        "print(df.loc[df['id'] == 15113])\n",
        "print(df.loc[df['id'] == 1312])\n",
        "print(df.loc[df['id'] == 2410])\n",
        "print(df.loc[df['id'] == 2581])\n",
        "print(df.loc[df['id'] == 2565])\n",
        "print(df.loc[df['id'] == 2564])\n",
        "print(df.loc[df['id'] == 2563])\n",
        "print(df.loc[df['id'] == 2562])\n",
        "print(df.loc[df['id'] == 1312])"
      ]
    },
    {
      "cell_type": "code",
      "execution_count": null,
      "metadata": {
        "colab": {
          "base_uri": "https://localhost:8080/"
        },
        "id": "8Hc6UUZDxAKs",
        "outputId": "d2c54ef6-ee0f-47c5-d696-5a647ae56689"
      },
      "outputs": [
        {
          "output_type": "execute_result",
          "data": {
            "text/plain": [
              "0"
            ]
          },
          "metadata": {},
          "execution_count": 14
        }
      ],
      "source": [
        "before = df.shape[0]\n",
        "df_new = df.dropna()\n",
        "after = df_new.shape[0]\n",
        "delete_amount = before - after\n",
        "delete_amount"
      ]
    },
    {
      "cell_type": "code",
      "execution_count": null,
      "metadata": {
        "colab": {
          "base_uri": "https://localhost:8080/"
        },
        "id": "03n3oBQxoeXm",
        "outputId": "831d30dc-c5b6-48ee-9b95-0d7257dbea2b"
      },
      "outputs": [
        {
          "output_type": "execute_result",
          "data": {
            "text/plain": [
              "23150"
            ]
          },
          "metadata": {},
          "execution_count": 11
        }
      ],
      "source": [
        "df_new.shape[0] - delete_amount\n",
        "df_new.shape[0]"
      ]
    },
    {
      "cell_type": "code",
      "execution_count": null,
      "metadata": {
        "colab": {
          "base_uri": "https://localhost:8080/"
        },
        "id": "90y9DOoi4HXo",
        "outputId": "5252ecb5-39ee-4394-a062-de579a3440a9"
      },
      "outputs": [
        {
          "data": {
            "text/plain": [
              "dtype('O')"
            ]
          },
          "execution_count": 48,
          "metadata": {},
          "output_type": "execute_result"
        }
      ],
      "source": [
        "df_new['nombre'].astype(str)\n",
        "df_new['nombre'].dtypes"
      ]
    },
    {
      "cell_type": "code",
      "execution_count": null,
      "metadata": {
        "id": "2voKSPoqxAIU"
      },
      "outputs": [],
      "source": [
        "!pip install -U spacy\n",
        "!python -m spacy download es_core_news_lg"
      ]
    },
    {
      "cell_type": "code",
      "execution_count": null,
      "metadata": {
        "id": "uwAE0QUNMolG"
      },
      "outputs": [],
      "source": [
        "import spacy\n",
        "nlp = spacy.load('es_core_news_lg')"
      ]
    },
    {
      "cell_type": "code",
      "execution_count": null,
      "metadata": {
        "id": "xe2RjblwNgu2"
      },
      "outputs": [],
      "source": [
        "def is_token_allowed(token: str) -> bool:\n",
        "  return bool(\n",
        "      token\n",
        "      and not token.is_stop\n",
        "      and token.is_alpha\n",
        "      and not token.is_punct\n",
        "  )\n",
        "\n",
        "def preprocess_token(token: str) -> bool:\n",
        "  return token.lemma_.strip().lower()\n",
        "\n",
        "\n",
        "import re\n",
        "import unicodedata\n",
        "\n",
        "\n",
        "def filters(value):\n",
        "  text = str(value)\n",
        "  text = re.sub(r'[()\\-_]', ' ', text)\n",
        "  text = ''.join((c for c in unicodedata.normalize('NFD', value) if unicodedata.category(c) != 'Mn'))\n",
        "  return text\n",
        "\n",
        "def process_text(df, columns):\n",
        "    df[columns] = df[columns].applymap(\n",
        "      lambda value: str(' '.join([\n",
        "        preprocess_token(token)\n",
        "        for token in nlp(filters(value))\n",
        "        if is_token_allowed(token)\n",
        "    ])))\n",
        "    return df"
      ]
    },
    {
      "cell_type": "markdown",
      "metadata": {
        "id": "SQzdlJFin-sy"
      },
      "source": [
        "## Tiempo Estimado: 11 Minutos"
      ]
    },
    {
      "cell_type": "code",
      "execution_count": null,
      "metadata": {
        "id": "jKAHrrnYkgAj",
        "colab": {
          "base_uri": "https://localhost:8080/",
          "height": 424
        },
        "outputId": "0f39bff1-5c22-4fdf-eaca-454f4a0fa11c"
      },
      "outputs": [
        {
          "output_type": "execute_result",
          "data": {
            "text/plain": [
              "          id                                 nombre  \\\n",
              "0       7157                            casar papel   \n",
              "1      19699  mlb chicago cubs vs chicago white sox   \n",
              "2      27272                quimica vida pedazo pan   \n",
              "3      10155                 concierto taino mayari   \n",
              "4      10153                   atalanta real madrid   \n",
              "...      ...                                    ...   \n",
              "22877  13510        efemerid senal acn martes abril   \n",
              "22878  13514                          the war below   \n",
              "22879  13513      jose marti senal acn martes abril   \n",
              "22880  13511       chadwick boseman retrato artista   \n",
              "22881  13515          enlace senal acn martes abril   \n",
              "\n",
              "                                             descripcion    categoria  \n",
              "0      huir millon euros fabricar nacional moneda tim...        serie  \n",
              "1                                                 probar         live  \n",
              "2      explicar aspecto quimico biologico produccion ...  audiovisual  \n",
              "3                                ministerio cultura cuba  audiovisual  \n",
              "4                                 comercial aplicar cuba         live  \n",
              "...                                                  ...          ...  \n",
              "22877                    efemerid senal acn martes abril  audiovisual  \n",
              "22878  guerra mundial grupo minero britanico reclutar...     pelicula  \n",
              "22879                  jose marti senal acn martes abril  audiovisual  \n",
              "22880  documental proponer mirada intimo arte falleci...   documental  \n",
              "22881                      enlace senal acn martes abril  audiovisual  \n",
              "\n",
              "[22882 rows x 4 columns]"
            ],
            "text/html": [
              "\n",
              "  <div id=\"df-76255f55-3481-49b7-970d-12995b2b8842\" class=\"colab-df-container\">\n",
              "    <div>\n",
              "<style scoped>\n",
              "    .dataframe tbody tr th:only-of-type {\n",
              "        vertical-align: middle;\n",
              "    }\n",
              "\n",
              "    .dataframe tbody tr th {\n",
              "        vertical-align: top;\n",
              "    }\n",
              "\n",
              "    .dataframe thead th {\n",
              "        text-align: right;\n",
              "    }\n",
              "</style>\n",
              "<table border=\"1\" class=\"dataframe\">\n",
              "  <thead>\n",
              "    <tr style=\"text-align: right;\">\n",
              "      <th></th>\n",
              "      <th>id</th>\n",
              "      <th>nombre</th>\n",
              "      <th>descripcion</th>\n",
              "      <th>categoria</th>\n",
              "    </tr>\n",
              "  </thead>\n",
              "  <tbody>\n",
              "    <tr>\n",
              "      <th>0</th>\n",
              "      <td>7157</td>\n",
              "      <td>casar papel</td>\n",
              "      <td>huir millon euros fabricar nacional moneda tim...</td>\n",
              "      <td>serie</td>\n",
              "    </tr>\n",
              "    <tr>\n",
              "      <th>1</th>\n",
              "      <td>19699</td>\n",
              "      <td>mlb chicago cubs vs chicago white sox</td>\n",
              "      <td>probar</td>\n",
              "      <td>live</td>\n",
              "    </tr>\n",
              "    <tr>\n",
              "      <th>2</th>\n",
              "      <td>27272</td>\n",
              "      <td>quimica vida pedazo pan</td>\n",
              "      <td>explicar aspecto quimico biologico produccion ...</td>\n",
              "      <td>audiovisual</td>\n",
              "    </tr>\n",
              "    <tr>\n",
              "      <th>3</th>\n",
              "      <td>10155</td>\n",
              "      <td>concierto taino mayari</td>\n",
              "      <td>ministerio cultura cuba</td>\n",
              "      <td>audiovisual</td>\n",
              "    </tr>\n",
              "    <tr>\n",
              "      <th>4</th>\n",
              "      <td>10153</td>\n",
              "      <td>atalanta real madrid</td>\n",
              "      <td>comercial aplicar cuba</td>\n",
              "      <td>live</td>\n",
              "    </tr>\n",
              "    <tr>\n",
              "      <th>...</th>\n",
              "      <td>...</td>\n",
              "      <td>...</td>\n",
              "      <td>...</td>\n",
              "      <td>...</td>\n",
              "    </tr>\n",
              "    <tr>\n",
              "      <th>22877</th>\n",
              "      <td>13510</td>\n",
              "      <td>efemerid senal acn martes abril</td>\n",
              "      <td>efemerid senal acn martes abril</td>\n",
              "      <td>audiovisual</td>\n",
              "    </tr>\n",
              "    <tr>\n",
              "      <th>22878</th>\n",
              "      <td>13514</td>\n",
              "      <td>the war below</td>\n",
              "      <td>guerra mundial grupo minero britanico reclutar...</td>\n",
              "      <td>pelicula</td>\n",
              "    </tr>\n",
              "    <tr>\n",
              "      <th>22879</th>\n",
              "      <td>13513</td>\n",
              "      <td>jose marti senal acn martes abril</td>\n",
              "      <td>jose marti senal acn martes abril</td>\n",
              "      <td>audiovisual</td>\n",
              "    </tr>\n",
              "    <tr>\n",
              "      <th>22880</th>\n",
              "      <td>13511</td>\n",
              "      <td>chadwick boseman retrato artista</td>\n",
              "      <td>documental proponer mirada intimo arte falleci...</td>\n",
              "      <td>documental</td>\n",
              "    </tr>\n",
              "    <tr>\n",
              "      <th>22881</th>\n",
              "      <td>13515</td>\n",
              "      <td>enlace senal acn martes abril</td>\n",
              "      <td>enlace senal acn martes abril</td>\n",
              "      <td>audiovisual</td>\n",
              "    </tr>\n",
              "  </tbody>\n",
              "</table>\n",
              "<p>22882 rows × 4 columns</p>\n",
              "</div>\n",
              "    <div class=\"colab-df-buttons\">\n",
              "\n",
              "  <div class=\"colab-df-container\">\n",
              "    <button class=\"colab-df-convert\" onclick=\"convertToInteractive('df-76255f55-3481-49b7-970d-12995b2b8842')\"\n",
              "            title=\"Convert this dataframe to an interactive table.\"\n",
              "            style=\"display:none;\">\n",
              "\n",
              "  <svg xmlns=\"http://www.w3.org/2000/svg\" height=\"24px\" viewBox=\"0 -960 960 960\">\n",
              "    <path d=\"M120-120v-720h720v720H120Zm60-500h600v-160H180v160Zm220 220h160v-160H400v160Zm0 220h160v-160H400v160ZM180-400h160v-160H180v160Zm440 0h160v-160H620v160ZM180-180h160v-160H180v160Zm440 0h160v-160H620v160Z\"/>\n",
              "  </svg>\n",
              "    </button>\n",
              "\n",
              "  <style>\n",
              "    .colab-df-container {\n",
              "      display:flex;\n",
              "      gap: 12px;\n",
              "    }\n",
              "\n",
              "    .colab-df-convert {\n",
              "      background-color: #E8F0FE;\n",
              "      border: none;\n",
              "      border-radius: 50%;\n",
              "      cursor: pointer;\n",
              "      display: none;\n",
              "      fill: #1967D2;\n",
              "      height: 32px;\n",
              "      padding: 0 0 0 0;\n",
              "      width: 32px;\n",
              "    }\n",
              "\n",
              "    .colab-df-convert:hover {\n",
              "      background-color: #E2EBFA;\n",
              "      box-shadow: 0px 1px 2px rgba(60, 64, 67, 0.3), 0px 1px 3px 1px rgba(60, 64, 67, 0.15);\n",
              "      fill: #174EA6;\n",
              "    }\n",
              "\n",
              "    .colab-df-buttons div {\n",
              "      margin-bottom: 4px;\n",
              "    }\n",
              "\n",
              "    [theme=dark] .colab-df-convert {\n",
              "      background-color: #3B4455;\n",
              "      fill: #D2E3FC;\n",
              "    }\n",
              "\n",
              "    [theme=dark] .colab-df-convert:hover {\n",
              "      background-color: #434B5C;\n",
              "      box-shadow: 0px 1px 3px 1px rgba(0, 0, 0, 0.15);\n",
              "      filter: drop-shadow(0px 1px 2px rgba(0, 0, 0, 0.3));\n",
              "      fill: #FFFFFF;\n",
              "    }\n",
              "  </style>\n",
              "\n",
              "    <script>\n",
              "      const buttonEl =\n",
              "        document.querySelector('#df-76255f55-3481-49b7-970d-12995b2b8842 button.colab-df-convert');\n",
              "      buttonEl.style.display =\n",
              "        google.colab.kernel.accessAllowed ? 'block' : 'none';\n",
              "\n",
              "      async function convertToInteractive(key) {\n",
              "        const element = document.querySelector('#df-76255f55-3481-49b7-970d-12995b2b8842');\n",
              "        const dataTable =\n",
              "          await google.colab.kernel.invokeFunction('convertToInteractive',\n",
              "                                                    [key], {});\n",
              "        if (!dataTable) return;\n",
              "\n",
              "        const docLinkHtml = 'Like what you see? Visit the ' +\n",
              "          '<a target=\"_blank\" href=https://colab.research.google.com/notebooks/data_table.ipynb>data table notebook</a>'\n",
              "          + ' to learn more about interactive tables.';\n",
              "        element.innerHTML = '';\n",
              "        dataTable['output_type'] = 'display_data';\n",
              "        await google.colab.output.renderOutput(dataTable, element);\n",
              "        const docLink = document.createElement('div');\n",
              "        docLink.innerHTML = docLinkHtml;\n",
              "        element.appendChild(docLink);\n",
              "      }\n",
              "    </script>\n",
              "  </div>\n",
              "\n",
              "\n",
              "<div id=\"df-77560d81-ad30-4b04-957c-ebdf20cc30e9\">\n",
              "  <button class=\"colab-df-quickchart\" onclick=\"quickchart('df-77560d81-ad30-4b04-957c-ebdf20cc30e9')\"\n",
              "            title=\"Suggest charts\"\n",
              "            style=\"display:none;\">\n",
              "\n",
              "<svg xmlns=\"http://www.w3.org/2000/svg\" height=\"24px\"viewBox=\"0 0 24 24\"\n",
              "     width=\"24px\">\n",
              "    <g>\n",
              "        <path d=\"M19 3H5c-1.1 0-2 .9-2 2v14c0 1.1.9 2 2 2h14c1.1 0 2-.9 2-2V5c0-1.1-.9-2-2-2zM9 17H7v-7h2v7zm4 0h-2V7h2v10zm4 0h-2v-4h2v4z\"/>\n",
              "    </g>\n",
              "</svg>\n",
              "  </button>\n",
              "\n",
              "<style>\n",
              "  .colab-df-quickchart {\n",
              "      --bg-color: #E8F0FE;\n",
              "      --fill-color: #1967D2;\n",
              "      --hover-bg-color: #E2EBFA;\n",
              "      --hover-fill-color: #174EA6;\n",
              "      --disabled-fill-color: #AAA;\n",
              "      --disabled-bg-color: #DDD;\n",
              "  }\n",
              "\n",
              "  [theme=dark] .colab-df-quickchart {\n",
              "      --bg-color: #3B4455;\n",
              "      --fill-color: #D2E3FC;\n",
              "      --hover-bg-color: #434B5C;\n",
              "      --hover-fill-color: #FFFFFF;\n",
              "      --disabled-bg-color: #3B4455;\n",
              "      --disabled-fill-color: #666;\n",
              "  }\n",
              "\n",
              "  .colab-df-quickchart {\n",
              "    background-color: var(--bg-color);\n",
              "    border: none;\n",
              "    border-radius: 50%;\n",
              "    cursor: pointer;\n",
              "    display: none;\n",
              "    fill: var(--fill-color);\n",
              "    height: 32px;\n",
              "    padding: 0;\n",
              "    width: 32px;\n",
              "  }\n",
              "\n",
              "  .colab-df-quickchart:hover {\n",
              "    background-color: var(--hover-bg-color);\n",
              "    box-shadow: 0 1px 2px rgba(60, 64, 67, 0.3), 0 1px 3px 1px rgba(60, 64, 67, 0.15);\n",
              "    fill: var(--button-hover-fill-color);\n",
              "  }\n",
              "\n",
              "  .colab-df-quickchart-complete:disabled,\n",
              "  .colab-df-quickchart-complete:disabled:hover {\n",
              "    background-color: var(--disabled-bg-color);\n",
              "    fill: var(--disabled-fill-color);\n",
              "    box-shadow: none;\n",
              "  }\n",
              "\n",
              "  .colab-df-spinner {\n",
              "    border: 2px solid var(--fill-color);\n",
              "    border-color: transparent;\n",
              "    border-bottom-color: var(--fill-color);\n",
              "    animation:\n",
              "      spin 1s steps(1) infinite;\n",
              "  }\n",
              "\n",
              "  @keyframes spin {\n",
              "    0% {\n",
              "      border-color: transparent;\n",
              "      border-bottom-color: var(--fill-color);\n",
              "      border-left-color: var(--fill-color);\n",
              "    }\n",
              "    20% {\n",
              "      border-color: transparent;\n",
              "      border-left-color: var(--fill-color);\n",
              "      border-top-color: var(--fill-color);\n",
              "    }\n",
              "    30% {\n",
              "      border-color: transparent;\n",
              "      border-left-color: var(--fill-color);\n",
              "      border-top-color: var(--fill-color);\n",
              "      border-right-color: var(--fill-color);\n",
              "    }\n",
              "    40% {\n",
              "      border-color: transparent;\n",
              "      border-right-color: var(--fill-color);\n",
              "      border-top-color: var(--fill-color);\n",
              "    }\n",
              "    60% {\n",
              "      border-color: transparent;\n",
              "      border-right-color: var(--fill-color);\n",
              "    }\n",
              "    80% {\n",
              "      border-color: transparent;\n",
              "      border-right-color: var(--fill-color);\n",
              "      border-bottom-color: var(--fill-color);\n",
              "    }\n",
              "    90% {\n",
              "      border-color: transparent;\n",
              "      border-bottom-color: var(--fill-color);\n",
              "    }\n",
              "  }\n",
              "</style>\n",
              "\n",
              "  <script>\n",
              "    async function quickchart(key) {\n",
              "      const quickchartButtonEl =\n",
              "        document.querySelector('#' + key + ' button');\n",
              "      quickchartButtonEl.disabled = true;  // To prevent multiple clicks.\n",
              "      quickchartButtonEl.classList.add('colab-df-spinner');\n",
              "      try {\n",
              "        const charts = await google.colab.kernel.invokeFunction(\n",
              "            'suggestCharts', [key], {});\n",
              "      } catch (error) {\n",
              "        console.error('Error during call to suggestCharts:', error);\n",
              "      }\n",
              "      quickchartButtonEl.classList.remove('colab-df-spinner');\n",
              "      quickchartButtonEl.classList.add('colab-df-quickchart-complete');\n",
              "    }\n",
              "    (() => {\n",
              "      let quickchartButtonEl =\n",
              "        document.querySelector('#df-77560d81-ad30-4b04-957c-ebdf20cc30e9 button');\n",
              "      quickchartButtonEl.style.display =\n",
              "        google.colab.kernel.accessAllowed ? 'block' : 'none';\n",
              "    })();\n",
              "  </script>\n",
              "</div>\n",
              "    </div>\n",
              "  </div>\n"
            ],
            "application/vnd.google.colaboratory.intrinsic+json": {
              "type": "dataframe",
              "variable_name": "new_df",
              "summary": "{\n  \"name\": \"new_df\",\n  \"rows\": 22882,\n  \"fields\": [\n    {\n      \"column\": \"id\",\n      \"properties\": {\n        \"dtype\": \"number\",\n        \"std\": 10176,\n        \"min\": 29,\n        \"max\": 35363,\n        \"num_unique_values\": 22882,\n        \"samples\": [\n          21783,\n          25454,\n          5689\n        ],\n        \"semantic_type\": \"\",\n        \"description\": \"\"\n      }\n    },\n    {\n      \"column\": \"nombre\",\n      \"properties\": {\n        \"dtype\": \"string\",\n        \"num_unique_values\": 14770,\n        \"samples\": [\n          \"regalo enamorado\",\n          \"formacion pedagogica ingles to talk about future imaginary\",\n          \"cuba retomar gasificacion oxigeno medicinal pinar rio\"\n        ],\n        \"semantic_type\": \"\",\n        \"description\": \"\"\n      }\n    },\n    {\n      \"column\": \"descripcion\",\n      \"properties\": {\n        \"dtype\": \"string\",\n        \"num_unique_values\": 14764,\n        \"samples\": [\n          \"etecsa informar modalidad reportar interrupcion telefonia fijo nauta hogar\",\n          \"this is video orquesta failde ft version espanol pedro pablo cruz arreglo musical reinier cobos produccion musical ethiel failde pedro pablo cruz reinier cobos realizacion audiovisual kasasus producci\\u00f3n invitado especial luis franco maicel perez yurisan hernandez orquesta failde yerlanis junco orq failde luna manzanares wil campir elain morales yulaysi miranda haila maria mompie jotabarrioz\",\n          \"ejemplo video\"\n        ],\n        \"semantic_type\": \"\",\n        \"description\": \"\"\n      }\n    },\n    {\n      \"column\": \"categoria\",\n      \"properties\": {\n        \"dtype\": \"category\",\n        \"num_unique_values\": 12,\n        \"samples\": [\n          \"cancion\",\n          \"audio\",\n          \"serie\"\n        ],\n        \"semantic_type\": \"\",\n        \"description\": \"\"\n      }\n    }\n  ]\n}"
            }
          },
          "metadata": {},
          "execution_count": 17
        }
      ],
      "source": [
        "new_df = process_text(df.copy(), ['nombre', 'descripcion', 'categoria'])\n",
        "new_df"
      ]
    },
    {
      "cell_type": "code",
      "source": [
        "new_df.to_csv('/content/picta_publicaciones_procesadas_sin_nulas_v3.csv', index=True)"
      ],
      "metadata": {
        "id": "nDFAR_7HCcnE"
      },
      "execution_count": null,
      "outputs": []
    },
    {
      "cell_type": "code",
      "source": [
        "df_p = pd.read_csv('/content/picta_publicaciones_procesadas.csv')\n",
        "\n",
        "new_df_p = df_p.dropna()\n",
        "new_df_p"
      ],
      "metadata": {
        "id": "cTzrEZXE5t91"
      },
      "execution_count": null,
      "outputs": []
    },
    {
      "cell_type": "code",
      "execution_count": null,
      "metadata": {
        "id": "FEXCUAmPLX13"
      },
      "outputs": [],
      "source": [
        "new_df_p_n = df_p[df_p.isnull().any(axis=1)]\n",
        "new_df_p_n"
      ]
    },
    {
      "cell_type": "code",
      "execution_count": null,
      "metadata": {
        "id": "64YQi6eTpd-n"
      },
      "outputs": [],
      "source": [
        "new_df_p_n.to_csv('/content/picta_publicaciones_procesadas_nulas.csv', index=False)"
      ]
    },
    {
      "cell_type": "code",
      "execution_count": null,
      "metadata": {
        "id": "VBqbB7o5QJIb"
      },
      "outputs": [],
      "source": [
        "df = df.head(1)\n",
        "pd.set_option('display.max_colwidth', None)\n",
        "print(df['nombre'])\n",
        "print(df['descripcion'])"
      ]
    },
    {
      "cell_type": "code",
      "execution_count": null,
      "metadata": {
        "id": "yMIvxZ4qml_i"
      },
      "outputs": [],
      "source": [
        "import time"
      ]
    },
    {
      "cell_type": "code",
      "execution_count": null,
      "metadata": {
        "id": "jR5pAPyBS2hs"
      },
      "outputs": [],
      "source": [
        "# Start the timer\n",
        "start_time = time.time()\n",
        "new_df = process_text(df.copy(), ['nombre', 'descripcion', 'categoria'])\n",
        "print(new_df['nombre'])\n",
        "print(new_df['descripcion'])\n",
        "\n",
        "# Stop the timer\n",
        "end_time = time.time()\n",
        "\n",
        "# Calculate the elapsed time in milliseconds\n",
        "elapsed_time_ms = (end_time - start_time) * 1000\n",
        "\n",
        "# Print the elapsed time\n",
        "print(f\"Elapsed time: {elapsed_time_ms:.2f} milliseconds\")"
      ]
    },
    {
      "cell_type": "code",
      "execution_count": null,
      "metadata": {
        "id": "uxOK9eugkZuL"
      },
      "outputs": [],
      "source": []
    }
  ],
  "metadata": {
    "colab": {
      "provenance": []
    },
    "kernelspec": {
      "display_name": "Python 3",
      "name": "python3"
    },
    "language_info": {
      "name": "python"
    }
  },
  "nbformat": 4,
  "nbformat_minor": 0
}