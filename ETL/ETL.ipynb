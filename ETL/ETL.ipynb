{
  "cells": [
    {
      "cell_type": "code",
      "execution_count": null,
      "metadata": {
        "id": "R0_vaV_gL2dI"
      },
      "outputs": [],
      "source": [
        "import pandas as pd\n",
        "from pandas import DataFrame"
      ]
    },
    {
      "cell_type": "markdown",
      "metadata": {
        "id": "s7Rrrm53LtZ0"
      },
      "source": [
        "Limpiar el texto con spacy"
      ]
    },
    {
      "cell_type": "code",
      "execution_count": null,
      "metadata": {
        "id": "BVlTM7d3gGSd"
      },
      "outputs": [],
      "source": [
        "def get_columns(df: DataFrame) -> list:\n",
        "  return df.columns.tolist()\n",
        "\n",
        "\n",
        "def extract_csv(path: str) -> DataFrame:\n",
        "  df = pd.read_csv(path)\n",
        "  return df\n",
        "\n",
        "\n",
        "def load_csv(path: str, df: DataFrame) -> None:\n",
        "  df.to_csv(path, index=False)\n",
        "\n",
        "\n",
        "def transform_optimized(df: DataFrame, columns: list[str]) -> DataFrame:\n",
        "    # Realiza las modificaciones en las columnas especificadas\n",
        "    df[columns] = df[columns].applymap(\n",
        "      lambda value: ' '.join([\n",
        "        preprocess_token(token)\n",
        "        for token in nlp(value)\n",
        "        if is_token_allowed(token)\n",
        "      ]))\n",
        "\n",
        "    # Devuelve el DataFrame modificado\n",
        "    return df.copy()"
      ]
    },
    {
      "cell_type": "code",
      "execution_count": null,
      "metadata": {
        "id": "Fdq5YenouPu5"
      },
      "outputs": [],
      "source": [
        "# df = extract_csv('netflix_titles.csv')\n",
        "# transform(df)\n",
        "# load_csv('nuevo_datasset.csv', df)\n",
        "df = extract_csv('netflix_titles.csv')\n",
        "columns = get_columns(df)\n",
        "df_sp = transform_optimized(df, columns)\n",
        "load_csv('netflix_titles_clean.csv', df_sp)"
      ]
    }
  ],
  "metadata": {
    "colab": {
      "provenance": []
    },
    "kernelspec": {
      "display_name": "Python 3",
      "name": "python3"
    },
    "language_info": {
      "name": "python"
    }
  },
  "nbformat": 4,
  "nbformat_minor": 0
}