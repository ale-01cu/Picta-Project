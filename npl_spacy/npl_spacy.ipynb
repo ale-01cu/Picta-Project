{
  "nbformat": 4,
  "nbformat_minor": 0,
  "metadata": {
    "colab": {
      "provenance": []
    },
    "kernelspec": {
      "name": "python3",
      "display_name": "Python 3"
    },
    "language_info": {
      "name": "python"
    }
  },
  "cells": [
    {
      "cell_type": "code",
      "execution_count": null,
      "metadata": {
        "id": "3RGAvzgMR_TD"
      },
      "outputs": [],
      "source": [
        "!pip install -U spacy\n",
        "!python -m spacy download es_core_news_md"
      ]
    },
    {
      "cell_type": "code",
      "execution_count": null,
      "metadata": {
        "id": "bs3ATOpdSFAU"
      },
      "outputs": [],
      "source": [
        "import spacy\n",
        "nlp = spacy.load('es_core_news_md')"
      ]
    },
    {
      "cell_type": "code",
      "execution_count": null,
      "metadata": {
        "id": "MQb1PTwHSIzm"
      },
      "outputs": [],
      "source": [
        "sentence = nlp('La naturaleza es una fuente de inspiración, belleza y armonía. Nos ofrece paisajes maravillosos, recursos valiosos y lecciones de vida. Podemos disfrutar de la naturaleza de muchas formas: caminando por el bosque, observando las estrellas, escuchando el canto de los pájaros, respirando el aire puro, plantando un árbol, cuidando un animal, etc. La naturaleza nos brinda bienestar físico y mental, pero también nos exige respeto y responsabilidad. Debemos proteger la naturaleza de la contaminación, la deforestación, la extinción y el cambio climático. La naturaleza es nuestra casa común y debemos cuidarla como tal.')"
      ]
    },
    {
      "cell_type": "code",
      "execution_count": null,
      "metadata": {
        "id": "bMqib_WsXOj8"
      },
      "outputs": [],
      "source": [
        "def is_token_allowed(token: str) -> bool:\n",
        "  return bool(\n",
        "      token\n",
        "      and not token.is_stop\n",
        "      and token.is_alpha\n",
        "      and not token.is_punct\n",
        "  )\n",
        "\n",
        "def preprocess_token(token: str) -> bool:\n",
        "  return token.lemma_.strip().lower()"
      ]
    },
    {
      "cell_type": "code",
      "execution_count": null,
      "metadata": {
        "id": "ua1cBWyBTj--"
      },
      "outputs": [],
      "source": [
        "complete_filtered_tokens = [\n",
        "  preprocess_token(token)\n",
        "  for token in sentence\n",
        "  if is_token_allowed(token)\n",
        "]\n",
        "\n",
        "complete_filtered_tokens"
      ]
    }
  ]
}